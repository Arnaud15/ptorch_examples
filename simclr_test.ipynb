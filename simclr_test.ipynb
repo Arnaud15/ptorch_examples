{
 "cells": [
  {
   "cell_type": "markdown",
   "id": "47ab60e1-1dbb-4a3f-837e-2cca89d351b7",
   "metadata": {},
   "source": [
    "### Imports"
   ]
  },
  {
   "cell_type": "code",
   "execution_count": 1,
   "id": "7fe643a4-c855-40eb-866a-39bb10564604",
   "metadata": {},
   "outputs": [],
   "source": [
    "from math import pi\n",
    "\n",
    "import matplotlib.pyplot as plt\n",
    "import numpy as np\n",
    "import torch\n",
    "import torch.nn as nn\n",
    "import torch.nn.functional as F\n",
    "import torch.utils.data as data\n",
    "from torch.utils.data import DataLoader\n",
    "\n",
    "import src.simclr as simclr\n",
    "from src.data_loading import get_data_loader\n",
    "from src.utils import accuracy"
   ]
  },
  {
   "cell_type": "markdown",
   "id": "e4e4b072-2888-4815-9a77-6ce3c89e3865",
   "metadata": {},
   "source": [
    "### Params"
   ]
  },
  {
   "cell_type": "code",
   "execution_count": 2,
   "id": "9e9c7c8d-1ac4-49e2-b160-2743c80de09d",
   "metadata": {},
   "outputs": [],
   "source": [
    "dim = 6\n",
    "n_layers = 4\n",
    "n_epochs = 100\n",
    "n_points = 10\n",
    "b_size = 5\n",
    "min_t, max_t = (0.0, pi / 2.0)"
   ]
  },
  {
   "cell_type": "markdown",
   "id": "bbd11a04-c6c0-43a0-8c1f-6753dac95919",
   "metadata": {},
   "source": [
    "### Generate data"
   ]
  },
  {
   "cell_type": "code",
   "execution_count": 3,
   "id": "77e89ed4-2b82-47f9-8429-3758e46e6b57",
   "metadata": {},
   "outputs": [
    {
     "data": {
      "text/plain": [
       "<matplotlib.collections.PathCollection at 0x7fe1127adaf0>"
      ]
     },
     "execution_count": 3,
     "metadata": {},
     "output_type": "execute_result"
    },
    {
     "data": {
      "image/png": "[encoded data removed]",
      "text/plain": [
       "<Figure size 432x288 with 1 Axes>"
      ]
     },
     "metadata": {
      "needs_background": "light"
     },
     "output_type": "display_data"
    }
   ],
   "source": [
    "thetas = np.random.rand(n_points) * (max_t - min_t) + min_t\n",
    "x = np.cos(thetas)\n",
    "y = np.sin(thetas)\n",
    "plt.scatter(x, y)"
   ]
  },
  {
   "cell_type": "code",
   "execution_count": 4,
   "id": "854634d1-4d4e-411e-8e3a-bca3427c796b",
   "metadata": {
    "tags": []
   },
   "outputs": [],
   "source": [
    "def to_dataset(x, y):\n",
    "    d = np.concatenate([x.reshape(-1, 1), y.reshape(-1, 1)], axis=1)\n",
    "    d = torch.from_numpy(d).float()\n",
    "    return data.TensorDataset(d)\n",
    "\n",
    "\n",
    "def block(d, num):\n",
    "    unit = nn.Sequential(nn.Linear(d, d), nn.GELU())\n",
    "    from copy import deepcopy\n",
    "\n",
    "    return nn.Sequential(\n",
    "        *[deepcopy(unit) for _ in range(num)], nn.Linear(d, 2)\n",
    "    )\n",
    "\n",
    "\n",
    "def plot_vec(tensor):\n",
    "    if tensor.size(0) % 5 != 0:\n",
    "        print(\"pass plotting step, not // 5\")\n",
    "        return\n",
    "    if tensor.size(1) != 2 or tensor.dim() > 2:\n",
    "        print(tensor.dim())\n",
    "        print(\"pass plotting step, not batch + 2d data\")\n",
    "        return\n",
    "    plt.figure()\n",
    "    n = tensor.size(0) // 5\n",
    "    print(\n",
    "        \"Input data distribution, blue = original data points, other colors = transformed data points\"\n",
    "    )\n",
    "    for ix in range(3):\n",
    "        ndarray = tensor[ix * n : (ix + 1) * n, :].detach().numpy()\n",
    "        x = [arr[0] for arr in ndarray]\n",
    "        y = [arr[1] for arr in ndarray]\n",
    "        plt.scatter(x, y)\n",
    "    plt.show()\n",
    "    plt.close()\n",
    "    print(\"Constrastive representation\")\n",
    "    for ix in range(3, 4):\n",
    "        ndarray = tensor[ix * n : (ix + 1) * n, :].detach().numpy()\n",
    "        x = [arr[0] for arr in ndarray]\n",
    "        y = [arr[1] for arr in ndarray]\n",
    "        plt.scatter(x, y)\n",
    "    plt.show()\n",
    "    plt.close()\n",
    "\n",
    "\n",
    "def train_simclr(\n",
    "    data: DataLoader,\n",
    "    model: nn.Module,\n",
    "    lr: float,\n",
    "    decay: float,\n",
    "    n_epochs: int = 100,\n",
    "    plot_every: int = 10,\n",
    "    print_every: int = 10,\n",
    "):\n",
    "    optimizer = torch.optim.AdamW(\n",
    "        model.parameters(), lr=lr, weight_decay=decay\n",
    "    )\n",
    "    transform = lambda tensor: tensor + torch.randn_like(x) * 0.1\n",
    "    for e_ix in range(n_epochs):\n",
    "        for (step_ix, batch) in enumerate(data):\n",
    "            x = batch[0]\n",
    "            transformed, loss, logits_labels = simclr.step(x, model, transform)\n",
    "            logits, labels = logits_labels\n",
    "            optimizer.zero_grad()\n",
    "            loss.backward()\n",
    "            optimizer.step()\n",
    "        if plot_every and ((e_ix == 1) or (e_ix + 1) % plot_every == 0):\n",
    "            plot_vec(torch.cat([x, transformed]))\n",
    "        if print_every and (e_ix + 1) % print_every == 0:\n",
    "            print(f\"loss: {loss.item()}\")\n",
    "            print(f\"contrastive accuracy: {accuracy(logits, labels)}\")"
   ]
  },
  {
   "cell_type": "code",
   "execution_count": 5,
   "id": "4d8b370a-f3a7-4366-ae59-a146844c387b",
   "metadata": {},
   "outputs": [
    {
     "data": {
      "text/plain": [
       "10"
      ]
     },
     "execution_count": 5,
     "metadata": {},
     "output_type": "execute_result"
    }
   ],
   "source": [
    "dataset = to_dataset(x, y)\n",
    "len(dataset)"
   ]
  },
  {
   "cell_type": "code",
   "execution_count": 6,
   "id": "9d9d578c-731a-4ec2-bca9-55acc07b30f6",
   "metadata": {},
   "outputs": [
    {
     "name": "stdout",
     "output_type": "stream",
     "text": [
      "Dataset lengths: train-10, val-0\n"
     ]
    }
   ],
   "source": [
    "train_loader, _ = get_data_loader(\n",
    "    dataset, val_share=0.0, batch_size=b_size, single_batch=False\n",
    ")"
   ]
  },
  {
   "cell_type": "code",
   "execution_count": 7,
   "id": "8e7a3786-17b1-4b0b-9698-ae96ec805362",
   "metadata": {},
   "outputs": [],
   "source": [
    "encoder = nn.Sequential(nn.Linear(2, dim),)\n",
    "head = block(dim, num=3)\n",
    "model = simclr.ContrastiveLearner(encoder=encoder, projection=head)"
   ]
  },
  {
   "cell_type": "code",
   "execution_count": 8,
   "id": "935f8fcc-6952-4678-ad75-6ac06ca7ffa8",
   "metadata": {},
   "outputs": [
    {
     "name": "stdout",
     "output_type": "stream",
     "text": [
      "loss: 2.197188138961792\n",
      "acc torch.Size([10]) torch.Size([10])\n",
      "contrastive accuracy: 0.4000000059604645\n",
      "Input data distribution, blue = original data points, other colors = transformed data points\n"
     ]
    },
    {
     "data": {
      "image/png": "[encoded data removed]",
      "text/plain": [
       "<Figure size 432x288 with 1 Axes>"
      ]
     },
     "metadata": {
      "needs_background": "light"
     },
     "output_type": "display_data"
    },
    {
     "name": "stdout",
     "output_type": "stream",
     "text": [
      "Constrastive representation\n"
     ]
    },
    {
     "data": {
      "image/png": "[encoded data removed]",
      "text/plain": [
       "<Figure size 432x288 with 1 Axes>"
      ]
     },
     "metadata": {
      "needs_background": "light"
     },
     "output_type": "display_data"
    },
    {
     "name": "stdout",
     "output_type": "stream",
     "text": [
      "loss: 2.197136402130127\n",
      "acc torch.Size([10]) torch.Size([10])\n",
      "contrastive accuracy: 0.8999999761581421\n",
      "loss: 2.197101593017578\n",
      "acc torch.Size([10]) torch.Size([10])\n",
      "contrastive accuracy: 0.800000011920929\n",
      "loss: 2.1971468925476074\n",
      "acc torch.Size([10]) torch.Size([10])\n",
      "contrastive accuracy: 0.5\n",
      "loss: 2.1970133781433105\n",
      "acc torch.Size([10]) torch.Size([10])\n",
      "contrastive accuracy: 0.8999999761581421\n",
      "loss: 2.196974277496338\n",
      "acc torch.Size([10]) torch.Size([10])\n",
      "contrastive accuracy: 0.30000001192092896\n",
      "loss: 2.196779727935791\n",
      "acc torch.Size([10]) torch.Size([10])\n",
      "contrastive accuracy: 0.699999988079071\n",
      "loss: 2.1967873573303223\n",
      "acc torch.Size([10]) torch.Size([10])\n",
      "contrastive accuracy: 0.6000000238418579\n",
      "loss: 2.196533679962158\n",
      "acc torch.Size([10]) torch.Size([10])\n",
      "contrastive accuracy: 0.6000000238418579\n",
      "loss: 2.196833848953247\n",
      "acc torch.Size([10]) torch.Size([10])\n",
      "contrastive accuracy: 0.4000000059604645\n",
      "loss: 2.195446491241455\n",
      "acc torch.Size([10]) torch.Size([10])\n",
      "contrastive accuracy: 0.4000000059604645\n",
      "loss: 2.194489002227783\n",
      "acc torch.Size([10]) torch.Size([10])\n",
      "contrastive accuracy: 0.6000000238418579\n",
      "loss: 2.195563793182373\n",
      "acc torch.Size([10]) torch.Size([10])\n",
      "contrastive accuracy: 0.5\n",
      "loss: 2.195080041885376\n",
      "acc torch.Size([10]) torch.Size([10])\n",
      "contrastive accuracy: 0.30000001192092896\n",
      "loss: 2.1928563117980957\n",
      "acc torch.Size([10]) torch.Size([10])\n",
      "contrastive accuracy: 0.5\n",
      "loss: 2.1916799545288086\n",
      "acc torch.Size([10]) torch.Size([10])\n",
      "contrastive accuracy: 0.30000001192092896\n",
      "loss: 2.193558692932129\n",
      "acc torch.Size([10]) torch.Size([10])\n",
      "contrastive accuracy: 0.6000000238418579\n",
      "loss: 2.186974048614502\n",
      "acc torch.Size([10]) torch.Size([10])\n",
      "contrastive accuracy: 0.699999988079071\n",
      "loss: 2.183981418609619\n",
      "acc torch.Size([10]) torch.Size([10])\n",
      "contrastive accuracy: 0.699999988079071\n",
      "Input data distribution, blue = original data points, other colors = transformed data points\n"
     ]
    },
    {
     "data": {
      "image/png": "[encoded data removed]",
      "text/plain": [
       "<Figure size 432x288 with 1 Axes>"
      ]
     },
     "metadata": {
      "needs_background": "light"
     },
     "output_type": "display_data"
    },
    {
     "name": "stdout",
     "output_type": "stream",
     "text": [
      "Constrastive representation\n"
     ]
    },
    {
     "data": {
      "image/png": "[encoded data removed]",
      "text/plain": [
       "<Figure size 432x288 with 1 Axes>"
      ]
     },
     "metadata": {
      "needs_background": "light"
     },
     "output_type": "display_data"
    },
    {
     "name": "stdout",
     "output_type": "stream",
     "text": [
      "loss: 2.192399024963379\n",
      "acc torch.Size([10]) torch.Size([10])\n",
      "contrastive accuracy: 0.4000000059604645\n",
      "loss: 2.191582441329956\n",
      "acc torch.Size([10]) torch.Size([10])\n",
      "contrastive accuracy: 0.20000000298023224\n",
      "loss: 2.1857340335845947\n",
      "acc torch.Size([10]) torch.Size([10])\n",
      "contrastive accuracy: 0.4000000059604645\n",
      "loss: 2.173767566680908\n",
      "acc torch.Size([10]) torch.Size([10])\n",
      "contrastive accuracy: 0.6000000238418579\n",
      "loss: 2.1807026863098145\n",
      "acc torch.Size([10]) torch.Size([10])\n",
      "contrastive accuracy: 0.5\n",
      "loss: 2.176950454711914\n",
      "acc torch.Size([10]) torch.Size([10])\n",
      "contrastive accuracy: 0.5\n",
      "loss: 2.139477491378784\n",
      "acc torch.Size([10]) torch.Size([10])\n",
      "contrastive accuracy: 0.800000011920929\n",
      "loss: 2.158628225326538\n",
      "acc torch.Size([10]) torch.Size([10])\n",
      "contrastive accuracy: 0.4000000059604645\n",
      "loss: 2.1283986568450928\n",
      "acc torch.Size([10]) torch.Size([10])\n",
      "contrastive accuracy: 0.6000000238418579\n",
      "loss: 2.1584107875823975\n",
      "acc torch.Size([10]) torch.Size([10])\n",
      "contrastive accuracy: 0.4000000059604645\n",
      "loss: 2.1096651554107666\n",
      "acc torch.Size([10]) torch.Size([10])\n",
      "contrastive accuracy: 0.20000000298023224\n",
      "loss: 1.9983571767807007\n",
      "acc torch.Size([10]) torch.Size([10])\n",
      "contrastive accuracy: 0.6000000238418579\n",
      "loss: 2.0795021057128906\n",
      "acc torch.Size([10]) torch.Size([10])\n",
      "contrastive accuracy: 0.20000000298023224\n",
      "loss: 1.8982365131378174\n",
      "acc torch.Size([10]) torch.Size([10])\n",
      "contrastive accuracy: 0.699999988079071\n",
      "loss: 2.003018856048584\n",
      "acc torch.Size([10]) torch.Size([10])\n",
      "contrastive accuracy: 0.5\n",
      "loss: 1.8827844858169556\n",
      "acc torch.Size([10]) torch.Size([10])\n",
      "contrastive accuracy: 0.30000001192092896\n",
      "loss: 1.8392254114151\n",
      "acc torch.Size([10]) torch.Size([10])\n",
      "contrastive accuracy: 0.699999988079071\n",
      "loss: 1.767202615737915\n",
      "acc torch.Size([10]) torch.Size([10])\n",
      "contrastive accuracy: 0.699999988079071\n",
      "loss: 1.7101112604141235\n",
      "acc torch.Size([10]) torch.Size([10])\n",
      "contrastive accuracy: 0.8999999761581421\n",
      "loss: 1.6699262857437134\n",
      "acc torch.Size([10]) torch.Size([10])\n",
      "contrastive accuracy: 0.10000000149011612\n",
      "Input data distribution, blue = original data points, other colors = transformed data points\n"
     ]
    },
    {
     "data": {
      "image/png": "[encoded data removed]",
      "text/plain": [
       "<Figure size 432x288 with 1 Axes>"
      ]
     },
     "metadata": {
      "needs_background": "light"
     },
     "output_type": "display_data"
    },
    {
     "name": "stdout",
     "output_type": "stream",
     "text": [
      "Constrastive representation\n"
     ]
    },
    {
     "data": {
      "image/png": "[encoded data removed]",
      "text/plain": [
       "<Figure size 432x288 with 1 Axes>"
      ]
     },
     "metadata": {
      "needs_background": "light"
     },
     "output_type": "display_data"
    },
    {
     "name": "stdout",
     "output_type": "stream",
     "text": [
      "loss: 1.6479425430297852\n",
      "acc torch.Size([10]) torch.Size([10])\n",
      "contrastive accuracy: 0.6000000238418579\n",
      "loss: 1.6179497241973877\n",
      "acc torch.Size([10]) torch.Size([10])\n",
      "contrastive accuracy: 0.6000000238418579\n",
      "loss: 1.7234834432601929\n",
      "acc torch.Size([10]) torch.Size([10])\n",
      "contrastive accuracy: 0.6000000238418579\n",
      "loss: 1.5754454135894775\n",
      "acc torch.Size([10]) torch.Size([10])\n",
      "contrastive accuracy: 0.6000000238418579\n",
      "loss: 1.872375726699829\n",
      "acc torch.Size([10]) torch.Size([10])\n",
      "contrastive accuracy: 0.4000000059604645\n",
      "loss: 1.7369520664215088\n",
      "acc torch.Size([10]) torch.Size([10])\n",
      "contrastive accuracy: 0.800000011920929\n",
      "loss: 1.5666896104812622\n",
      "acc torch.Size([10]) torch.Size([10])\n",
      "contrastive accuracy: 0.8999999761581421\n",
      "loss: 1.58319091796875\n",
      "acc torch.Size([10]) torch.Size([10])\n",
      "contrastive accuracy: 0.5\n",
      "loss: 1.5688587427139282\n",
      "acc torch.Size([10]) torch.Size([10])\n",
      "contrastive accuracy: 0.5\n",
      "loss: 1.5652201175689697\n",
      "acc torch.Size([10]) torch.Size([10])\n",
      "contrastive accuracy: 0.6000000238418579\n",
      "loss: 1.5636345148086548\n",
      "acc torch.Size([10]) torch.Size([10])\n",
      "contrastive accuracy: 0.800000011920929\n",
      "loss: 1.7341489791870117\n",
      "acc torch.Size([10]) torch.Size([10])\n",
      "contrastive accuracy: 0.20000000298023224\n",
      "loss: 1.5625063180923462\n",
      "acc torch.Size([10]) torch.Size([10])\n",
      "contrastive accuracy: 0.4000000059604645\n",
      "loss: 1.5623195171356201\n",
      "acc torch.Size([10]) torch.Size([10])\n",
      "contrastive accuracy: 0.5\n",
      "loss: 1.563840389251709\n",
      "acc torch.Size([10]) torch.Size([10])\n",
      "contrastive accuracy: 0.10000000149011612\n",
      "loss: 1.7326682806015015\n",
      "acc torch.Size([10]) torch.Size([10])\n",
      "contrastive accuracy: 0.20000000298023224\n",
      "loss: 1.5611298084259033\n",
      "acc torch.Size([10]) torch.Size([10])\n",
      "contrastive accuracy: 0.800000011920929\n",
      "loss: 1.6644741296768188\n",
      "acc torch.Size([10]) torch.Size([10])\n",
      "contrastive accuracy: 0.6000000238418579\n",
      "loss: 1.5621140003204346\n",
      "acc torch.Size([10]) torch.Size([10])\n",
      "contrastive accuracy: 0.6000000238418579\n",
      "loss: 1.9923912286758423\n",
      "acc torch.Size([10]) torch.Size([10])\n",
      "contrastive accuracy: 0.6000000238418579\n",
      "Input data distribution, blue = original data points, other colors = transformed data points\n"
     ]
    },
    {
     "data": {
      "image/png": "[encoded data removed]",
      "text/plain": [
       "<Figure size 432x288 with 1 Axes>"
      ]
     },
     "metadata": {
      "needs_background": "light"
     },
     "output_type": "display_data"
    },
    {
     "name": "stdout",
     "output_type": "stream",
     "text": [
      "Constrastive representation\n"
     ]
    },
    {
     "data": {
      "image/png": "[encoded data removed]",
      "text/plain": [
       "<Figure size 432x288 with 1 Axes>"
      ]
     },
     "metadata": {
      "needs_background": "light"
     },
     "output_type": "display_data"
    },
    {
     "name": "stdout",
     "output_type": "stream",
     "text": [
      "loss: 1.564554214477539\n",
      "acc torch.Size([10]) torch.Size([10])\n",
      "contrastive accuracy: 0.699999988079071\n",
      "loss: 1.562103509902954\n",
      "acc torch.Size([10]) torch.Size([10])\n",
      "contrastive accuracy: 0.800000011920929\n",
      "loss: 1.7398418188095093\n",
      "acc torch.Size([10]) torch.Size([10])\n",
      "contrastive accuracy: 0.30000001192092896\n",
      "loss: 1.5668751001358032\n",
      "acc torch.Size([10]) torch.Size([10])\n",
      "contrastive accuracy: 0.4000000059604645\n",
      "loss: 1.6033843755722046\n",
      "acc torch.Size([10]) torch.Size([10])\n",
      "contrastive accuracy: 0.6000000238418579\n",
      "loss: 2.2657310962677\n",
      "acc torch.Size([10]) torch.Size([10])\n",
      "contrastive accuracy: 0.4000000059604645\n",
      "loss: 1.8762565851211548\n",
      "acc torch.Size([10]) torch.Size([10])\n",
      "contrastive accuracy: 0.0\n",
      "loss: 1.5627061128616333\n",
      "acc torch.Size([10]) torch.Size([10])\n",
      "contrastive accuracy: 0.8999999761581421\n",
      "loss: 1.6100327968597412\n",
      "acc torch.Size([10]) torch.Size([10])\n",
      "contrastive accuracy: 0.699999988079071\n",
      "loss: 1.5917160511016846\n",
      "acc torch.Size([10]) torch.Size([10])\n",
      "contrastive accuracy: 0.20000000298023224\n",
      "loss: 1.5662646293640137\n",
      "acc torch.Size([10]) torch.Size([10])\n",
      "contrastive accuracy: 0.800000011920929\n",
      "loss: 1.7368323802947998\n",
      "acc torch.Size([10]) torch.Size([10])\n",
      "contrastive accuracy: 0.699999988079071\n",
      "loss: 2.005275249481201\n",
      "acc torch.Size([10]) torch.Size([10])\n",
      "contrastive accuracy: 0.30000001192092896\n",
      "loss: 1.7102782726287842\n",
      "acc torch.Size([10]) torch.Size([10])\n",
      "contrastive accuracy: 0.6000000238418579\n",
      "loss: 1.565397024154663\n",
      "acc torch.Size([10]) torch.Size([10])\n",
      "contrastive accuracy: 0.5\n",
      "loss: 1.7796640396118164\n",
      "acc torch.Size([10]) torch.Size([10])\n",
      "contrastive accuracy: 0.5\n",
      "loss: 1.7312781810760498\n",
      "acc torch.Size([10]) torch.Size([10])\n",
      "contrastive accuracy: 0.4000000059604645\n",
      "loss: 1.5661860704421997\n",
      "acc torch.Size([10]) torch.Size([10])\n",
      "contrastive accuracy: 0.8999999761581421\n",
      "loss: 1.7209266424179077\n",
      "acc torch.Size([10]) torch.Size([10])\n",
      "contrastive accuracy: 0.6000000238418579\n",
      "loss: 1.6921075582504272\n",
      "acc torch.Size([10]) torch.Size([10])\n",
      "contrastive accuracy: 0.699999988079071\n",
      "Input data distribution, blue = original data points, other colors = transformed data points\n"
     ]
    },
    {
     "data": {
      "image/png": "[encoded data removed]",
      "text/plain": [
       "<Figure size 432x288 with 1 Axes>"
      ]
     },
     "metadata": {
      "needs_background": "light"
     },
     "output_type": "display_data"
    },
    {
     "name": "stdout",
     "output_type": "stream",
     "text": [
      "Constrastive representation\n"
     ]
    },
    {
     "data": {
      "image/png": "[encoded data removed]",
      "text/plain": [
       "<Figure size 432x288 with 1 Axes>"
      ]
     },
     "metadata": {
      "needs_background": "light"
     },
     "output_type": "display_data"
    },
    {
     "name": "stdout",
     "output_type": "stream",
     "text": [
      "loss: 1.8080484867095947\n",
      "acc torch.Size([10]) torch.Size([10])\n",
      "contrastive accuracy: 0.6000000238418579\n",
      "loss: 1.7426484823226929\n",
      "acc torch.Size([10]) torch.Size([10])\n",
      "contrastive accuracy: 0.5\n",
      "loss: 1.7926076650619507\n",
      "acc torch.Size([10]) torch.Size([10])\n",
      "contrastive accuracy: 0.6000000238418579\n",
      "loss: 1.7814557552337646\n",
      "acc torch.Size([10]) torch.Size([10])\n",
      "contrastive accuracy: 0.5\n",
      "loss: 1.570059061050415\n",
      "acc torch.Size([10]) torch.Size([10])\n",
      "contrastive accuracy: 0.8999999761581421\n",
      "loss: 1.7526966333389282\n",
      "acc torch.Size([10]) torch.Size([10])\n",
      "contrastive accuracy: 0.699999988079071\n",
      "loss: 1.758715271949768\n",
      "acc torch.Size([10]) torch.Size([10])\n",
      "contrastive accuracy: 0.5\n",
      "loss: 1.6241369247436523\n",
      "acc torch.Size([10]) torch.Size([10])\n",
      "contrastive accuracy: 0.6000000238418579\n",
      "loss: 1.9852253198623657\n",
      "acc torch.Size([10]) torch.Size([10])\n",
      "contrastive accuracy: 0.6000000238418579\n",
      "loss: 1.6656789779663086\n",
      "acc torch.Size([10]) torch.Size([10])\n",
      "contrastive accuracy: 0.5\n",
      "loss: 1.5710667371749878\n",
      "acc torch.Size([10]) torch.Size([10])\n",
      "contrastive accuracy: 1.0\n",
      "loss: 1.7795051336288452\n",
      "acc torch.Size([10]) torch.Size([10])\n",
      "contrastive accuracy: 0.30000001192092896\n",
      "loss: 1.5810630321502686\n",
      "acc torch.Size([10]) torch.Size([10])\n",
      "contrastive accuracy: 0.699999988079071\n",
      "loss: 1.8154771327972412\n",
      "acc torch.Size([10]) torch.Size([10])\n",
      "contrastive accuracy: 0.20000000298023224\n",
      "loss: 1.5740439891815186\n",
      "acc torch.Size([10]) torch.Size([10])\n",
      "contrastive accuracy: 0.699999988079071\n",
      "loss: 1.5871055126190186\n",
      "acc torch.Size([10]) torch.Size([10])\n",
      "contrastive accuracy: 0.800000011920929\n",
      "loss: 1.5808570384979248\n",
      "acc torch.Size([10]) torch.Size([10])\n",
      "contrastive accuracy: 0.5\n",
      "loss: 1.5405975580215454\n",
      "acc torch.Size([10]) torch.Size([10])\n",
      "contrastive accuracy: 0.699999988079071\n",
      "loss: 1.5904427766799927\n",
      "acc torch.Size([10]) torch.Size([10])\n",
      "contrastive accuracy: 0.4000000059604645\n",
      "loss: 1.806810736656189\n",
      "acc torch.Size([10]) torch.Size([10])\n",
      "contrastive accuracy: 0.4000000059604645\n",
      "Input data distribution, blue = original data points, other colors = transformed data points\n"
     ]
    },
    {
     "data": {
      "image/png": "[encoded data removed]",
      "text/plain": [
       "<Figure size 432x288 with 1 Axes>"
      ]
     },
     "metadata": {
      "needs_background": "light"
     },
     "output_type": "display_data"
    },
    {
     "name": "stdout",
     "output_type": "stream",
     "text": [
      "Constrastive representation\n"
     ]
    },
    {
     "data": {
      "image/png": "[encoded data removed]",
      "text/plain": [
       "<Figure size 432x288 with 1 Axes>"
      ]
     },
     "metadata": {
      "needs_background": "light"
     },
     "output_type": "display_data"
    },
    {
     "name": "stdout",
     "output_type": "stream",
     "text": [
      "loss: 1.5449895858764648\n",
      "acc torch.Size([10]) torch.Size([10])\n",
      "contrastive accuracy: 1.0\n"
     ]
    }
   ],
   "source": [
    "train_simclr(\n",
    "    train_loader,\n",
    "    model,\n",
    "    n_epochs=n_epochs,\n",
    "    plot_every=n_epochs // 5,\n",
    "    print_every=1,\n",
    "    lr=1e-3,\n",
    "    decay=1e-5,\n",
    ")"
   ]
  },
  {
   "cell_type": "code",
   "execution_count": null,
   "id": "666323da-0207-4c27-87d3-2fe82cae0077",
   "metadata": {},
   "outputs": [],
   "source": []
  },
  {
   "cell_type": "code",
   "execution_count": null,
   "id": "5801167c-109e-4e88-acd5-82a646d494a0",
   "metadata": {},
   "outputs": [],
   "source": []
  },
  {
   "cell_type": "code",
   "execution_count": null,
   "id": "f1dcd40c-e0bf-4a35-8e38-8df03fcfe725",
   "metadata": {},
   "outputs": [],
   "source": []
  },
  {
   "cell_type": "code",
   "execution_count": null,
   "id": "c6d80b72-116e-4b58-922a-09958f15ec42",
   "metadata": {},
   "outputs": [],
   "source": []
  },
  {
   "cell_type": "code",
   "execution_count": null,
   "id": "9d62055b-c9d5-4c8b-83d5-b489f977e636",
   "metadata": {},
   "outputs": [],
   "source": []
  },
  {
   "cell_type": "code",
   "execution_count": null,
   "id": "932e7abf-57d0-471a-a125-ef8b297677a0",
   "metadata": {},
   "outputs": [],
   "source": []
  },
  {
   "cell_type": "code",
   "execution_count": null,
   "id": "b172cb79-afd4-4e8d-9cb2-73eadb12b83a",
   "metadata": {},
   "outputs": [],
   "source": []
  }
 ],
 "metadata": {
  "kernelspec": {
   "display_name": "Python 3 (ipykernel)",
   "language": "python",
   "name": "python3"
  },
  "language_info": {
   "codemirror_mode": {
    "name": "ipython",
    "version": 3
   },
   "file_extension": ".py",
   "mimetype": "text/x-python",
   "name": "python",
   "nbconvert_exporter": "python",
   "pygments_lexer": "ipython3",
   "version": "3.9.7"
  }
 },
 "nbformat": 4,
 "nbformat_minor": 5
}
