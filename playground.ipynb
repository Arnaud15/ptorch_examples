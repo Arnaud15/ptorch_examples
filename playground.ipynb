{
 "cells": [
  {
   "cell_type": "code",
   "execution_count": 1,
   "id": "06132d9f-d8c0-46b0-a62a-1dcc614c2c33",
   "metadata": {},
   "outputs": [],
   "source": [
    "from data_loading import get_image_data_loader\n",
    "from models import *\n",
    "from train import training_loop\n",
    "from utils import accuracy"
   ]
  },
  {
   "cell_type": "code",
   "execution_count": 2,
   "id": "fa28d56d-3d7a-4511-a414-d136f70b781d",
   "metadata": {},
   "outputs": [],
   "source": [
    "import matplotlib.pyplot as plt\n",
    "import numpy as np\n",
    "import torch\n",
    "import torch.nn as nn\n",
    "import torch.nn.functional as F\n",
    "import torch.optim as optim\n",
    "from torchsummary import summary"
   ]
  },
  {
   "cell_type": "markdown",
   "id": "88dcec6f-b0de-4fcd-a035-92744145f98a",
   "metadata": {},
   "source": [
    "### Params"
   ]
  },
  {
   "cell_type": "code",
   "execution_count": 3,
   "id": "852e31c5-c667-4c8f-bb38-f8b00124e96f",
   "metadata": {},
   "outputs": [],
   "source": [
    "batch_size = 128\n",
    "learning_rate = 1e-1\n",
    "momentum = 0.9\n",
    "n_epochs = 200\n",
    "dataset_name = \"cifar10\"\n",
    "dataset_to_n_classes = {\n",
    "    \"mnist\": 10,\n",
    "    \"cifar10\": 10,\n",
    "    \"fmnist\": 10,\n",
    "}"
   ]
  },
  {
   "cell_type": "markdown",
   "id": "b17fd92d-c5f4-45c4-b020-a055be41f5be",
   "metadata": {},
   "source": [
    "### Data loading"
   ]
  },
  {
   "cell_type": "code",
   "execution_count": 4,
   "id": "657b1add-05ce-4268-a035-b62b71bcb4d9",
   "metadata": {},
   "outputs": [
    {
     "name": "stdout",
     "output_type": "stream",
     "text": [
      "Files already downloaded and verified\n",
      "Dataset lengths: train-45000, val-5000\n"
     ]
    }
   ],
   "source": [
    "train_data, eval_data = get_image_data_loader(\n",
    "    dataset_name,\n",
    "    train=True,\n",
    "    val_share=0.1,\n",
    "    shuffle=True,\n",
    "    batch_size=batch_size,\n",
    "    single_batch=False,\n",
    ")"
   ]
  },
  {
   "cell_type": "code",
   "execution_count": 5,
   "id": "31fe69f5-bb72-4bec-9420-49f755b974b4",
   "metadata": {},
   "outputs": [
    {
     "name": "stdout",
     "output_type": "stream",
     "text": [
      "torch.Size([128, 3, 32, 32]) torch.Size([128])\n"
     ]
    }
   ],
   "source": [
    "(a, b) = next(iter(train_data))\n",
    "print(a.shape, b.shape)\n",
    "input_dim = np.prod(a.shape[1:])\n",
    "output_dim = dataset_to_n_classes[dataset_name]"
   ]
  },
  {
   "cell_type": "code",
   "execution_count": 6,
   "id": "280c8370-e5cf-49ba-8f96-f5d6d35be39d",
   "metadata": {},
   "outputs": [],
   "source": [
    "n_hidden = 5\n",
    "hidden_size = 256\n",
    "mlp_dims = [input_dim] + [hidden_size for _ in range(n_hidden)] + [output_dim]\n",
    "mlp = MLP(mlp_dims)"
   ]
  },
  {
   "cell_type": "code",
   "execution_count": 7,
   "id": "282f96c7-e47e-48c2-bba1-b8b715d460bb",
   "metadata": {},
   "outputs": [],
   "source": [
    "# ImageNet version\n",
    "# resnet_imagenet = Resnet(\n",
    "# img_channels=3,\n",
    "# n_classes=10,\n",
    "# extra_blocks_per_layer=[1, 3, 5, 2,],\n",
    "# resnet_channels=[64, 128, 256, 512],\n",
    "# stem_channels=64,\n",
    "# stem_downsample=True,\n",
    "# )\n",
    "# Cifar10 version\n",
    "# resnet_cifar = Resnet(\n",
    "#     img_channels=3,\n",
    "#     n_classes=10,\n",
    "#     extra_blocks_per_layer=[5, 5, 5],\n",
    "#     resnet_channels=[16, 32, 64],\n",
    "#     stem_channels=16,\n",
    "#     stem_downsample=False,\n",
    "# )\n",
    "# summary(resnet_cifar, (3, 32, 32))\n",
    "baby_resnet = Resnet(\n",
    "    img_channels=3,\n",
    "    n_classes=10,\n",
    "    extra_blocks_per_layer=[1, 1, 1],\n",
    "    resnet_channels=[16, 32, 64],\n",
    "    stem_channels=16,\n",
    "    stem_downsample=False,\n",
    ")"
   ]
  },
  {
   "cell_type": "markdown",
   "id": "96280c21-f618-427b-94d6-502d08f86e8b",
   "metadata": {},
   "source": [
    "### Optimizer and model selection"
   ]
  },
  {
   "cell_type": "code",
   "execution_count": 8,
   "id": "aa874132-ea16-48a2-9463-9addbdc76d19",
   "metadata": {},
   "outputs": [],
   "source": [
    "model = baby_resnet\n",
    "optimizer = optim.SGD(model.parameters(), lr=learning_rate, momentum=momentum)\n",
    "scheduler = optim.lr_scheduler.MultiStepLR(\n",
    "    optimizer, milestones=[32000, 48000,], gamma=0.1,\n",
    ")"
   ]
  },
  {
   "cell_type": "markdown",
   "id": "822d1940-c8a0-4cbb-a9c3-377a4ec24582",
   "metadata": {},
   "source": [
    "### Training"
   ]
  },
  {
   "cell_type": "code",
   "execution_count": null,
   "id": "d59eccca-cfce-4a4a-8b6e-275291326c08",
   "metadata": {},
   "outputs": [
    {
     "name": "stdout",
     "output_type": "stream",
     "text": [
      "Step: 5 | Training Loss: 2.13051\n",
      "Step: 5 | Training Metric: 0.17188\n",
      "Step: 10 | Training Loss: 3.71068\n",
      "Step: 10 | Training Metric: 0.10938\n",
      "Step: 15 | Training Loss: 2.44150\n",
      "Step: 15 | Training Metric: 0.16406\n",
      "Step: 20 | Training Loss: 2.50630\n",
      "Step: 20 | Training Metric: 0.13281\n",
      "Step: 25 | Training Loss: 2.38908\n",
      "Step: 25 | Training Metric: 0.21094\n",
      "Step: 30 | Training Loss: 2.16032\n",
      "Step: 30 | Training Metric: 0.26562\n",
      "Step: 35 | Training Loss: 1.85427\n",
      "Step: 35 | Training Metric: 0.28125\n",
      "Step: 40 | Training Loss: 1.99366\n",
      "Step: 40 | Training Metric: 0.28906\n",
      "Step: 45 | Training Loss: 2.02373\n",
      "Step: 45 | Training Metric: 0.25000\n",
      "Step: 50 | Training Loss: 1.77397\n",
      "Step: 50 | Training Metric: 0.28125\n",
      "Step: 55 | Training Loss: 2.00329\n",
      "Step: 55 | Training Metric: 0.25781\n",
      "Step: 60 | Training Loss: 1.73853\n",
      "Step: 60 | Training Metric: 0.32812\n",
      "Step: 65 | Training Loss: 1.79075\n",
      "Step: 65 | Training Metric: 0.28906\n",
      "Step: 70 | Training Loss: 1.71901\n",
      "Step: 70 | Training Metric: 0.35156\n",
      "Step: 75 | Training Loss: 1.80056\n",
      "Step: 75 | Training Metric: 0.35938\n",
      "Step: 80 | Training Loss: 1.71728\n",
      "Step: 80 | Training Metric: 0.36719\n"
     ]
    }
   ],
   "source": [
    "training_loop(\n",
    "    model=model,\n",
    "    opt=optimizer,\n",
    "    scheduler=scheduler,\n",
    "    train_loader=train_data,\n",
    "    eval_loader=eval_data,\n",
    "    loss_fn=F.cross_entropy,\n",
    "    metric_fn=accuracy,\n",
    "    n_epochs=n_epochs,\n",
    "    print_every=5,\n",
    "    write_every=10,\n",
    "    check_every=0,\n",
    ")"
   ]
  },
  {
   "cell_type": "code",
   "execution_count": null,
   "id": "522103df-fd7b-462b-8e4e-347f7c6d1fa7",
   "metadata": {},
   "outputs": [],
   "source": []
  }
 ],
 "metadata": {
  "kernelspec": {
   "display_name": "Python 3 (ipykernel)",
   "language": "python",
   "name": "python3"
  },
  "language_info": {
   "codemirror_mode": {
    "name": "ipython",
    "version": 3
   },
   "file_extension": ".py",
   "mimetype": "text/x-python",
   "name": "python",
   "nbconvert_exporter": "python",
   "pygments_lexer": "ipython3",
   "version": "3.9.7"
  }
 },
 "nbformat": 4,
 "nbformat_minor": 5
}
