{
 "cells": [
  {
   "cell_type": "code",
   "execution_count": 1,
   "id": "06132d9f-d8c0-46b0-a62a-1dcc614c2c33",
   "metadata": {},
   "outputs": [],
   "source": [
    "from test import test_loop\n",
    "\n",
    "from data_loading import get_image_data_loader\n",
    "from models import *\n",
    "from train import training_loop\n",
    "from utils import accuracy"
   ]
  },
  {
   "cell_type": "code",
   "execution_count": 2,
   "id": "fa28d56d-3d7a-4511-a414-d136f70b781d",
   "metadata": {},
   "outputs": [],
   "source": [
    "import os\n",
    "\n",
    "import matplotlib.pyplot as plt\n",
    "import numpy as np\n",
    "import torch\n",
    "import torch.nn as nn\n",
    "import torch.nn.functional as F\n",
    "import torch.optim as optim\n",
    "from torchsummary import summary"
   ]
  },
  {
   "cell_type": "markdown",
   "id": "88dcec6f-b0de-4fcd-a035-92744145f98a",
   "metadata": {},
   "source": [
    "### Params"
   ]
  },
  {
   "cell_type": "code",
   "execution_count": null,
   "id": "852e31c5-c667-4c8f-bb38-f8b00124e96f",
   "metadata": {},
   "outputs": [],
   "source": [
    "batch_size = 128\n",
    "learning_rate = 1e-1\n",
    "momentum = 0.9\n",
    "n_epochs = 5\n",
    "dataset_name = \"mnist\"\n",
    "dataset_to_n_classes = {\n",
    "    \"mnist\": 10,\n",
    "    \"cifar10\": 10,\n",
    "    \"fmnist\": 10,\n",
    "}\n",
    "exp_name = \"mlp-mnist\"\n",
    "use_cuda = False\n",
    "device = \"gpu\" if torch.cuda.is_available() and use_cuda else \"cpu\"\n",
    "device"
   ]
  },
  {
   "cell_type": "markdown",
   "id": "b17fd92d-c5f4-45c4-b020-a055be41f5be",
   "metadata": {},
   "source": [
    "### Data loading"
   ]
  },
  {
   "cell_type": "code",
   "execution_count": 11,
   "id": "657b1add-05ce-4268-a035-b62b71bcb4d9",
   "metadata": {},
   "outputs": [
    {
     "name": "stdout",
     "output_type": "stream",
     "text": [
      "Dataset lengths: train-54000, val-6000\n"
     ]
    }
   ],
   "source": [
    "train_data, eval_data = get_image_data_loader(\n",
    "    dataset_name,\n",
    "    train=True,\n",
    "    val_share=0.1,\n",
    "    shuffle=True,\n",
    "    batch_size=batch_size,\n",
    "    single_batch=False,\n",
    ")"
   ]
  },
  {
   "cell_type": "code",
   "execution_count": 12,
   "id": "31fe69f5-bb72-4bec-9420-49f755b974b4",
   "metadata": {},
   "outputs": [
    {
     "name": "stdout",
     "output_type": "stream",
     "text": [
      "torch.Size([128, 1, 28, 28]) torch.Size([128])\n"
     ]
    }
   ],
   "source": [
    "(a, b) = next(iter(train_data))\n",
    "print(a.shape, b.shape)\n",
    "input_dim = np.prod(a.shape[1:])\n",
    "output_dim = dataset_to_n_classes[dataset_name]"
   ]
  },
  {
   "cell_type": "code",
   "execution_count": 13,
   "id": "280c8370-e5cf-49ba-8f96-f5d6d35be39d",
   "metadata": {},
   "outputs": [],
   "source": [
    "n_hidden = 5\n",
    "hidden_size = 256\n",
    "mlp_dims = [input_dim] + [hidden_size for _ in range(n_hidden)] + [output_dim]\n",
    "mlp = MLP(mlp_dims)"
   ]
  },
  {
   "cell_type": "code",
   "execution_count": 14,
   "id": "282f96c7-e47e-48c2-bba1-b8b715d460bb",
   "metadata": {},
   "outputs": [],
   "source": [
    "# ImageNet version\n",
    "# resnet_imagenet = Resnet(\n",
    "# img_channels=3,\n",
    "# n_classes=10,\n",
    "# extra_blocks_per_layer=[1, 3, 5, 2,],\n",
    "# resnet_channels=[64, 128, 256, 512],\n",
    "# stem_channels=64,\n",
    "# stem_downsample=True,\n",
    "# )\n",
    "# Cifar10 version\n",
    "# resnet_cifar = Resnet(\n",
    "#     img_channels=3,\n",
    "#     n_classes=10,\n",
    "#     extra_blocks_per_layer=[5, 5, 5],\n",
    "#     resnet_channels=[16, 32, 64],\n",
    "#     stem_channels=16,\n",
    "#     stem_downsample=False,\n",
    "# )\n",
    "# summary(resnet_cifar, (3, 32, 32))\n",
    "baby_resnet = Resnet(\n",
    "    img_channels=3,\n",
    "    n_classes=10,\n",
    "    extra_blocks_per_layer=[1, 1, 1],\n",
    "    resnet_channels=[16, 32, 64],\n",
    "    stem_channels=16,\n",
    "    stem_downsample=False,\n",
    ")"
   ]
  },
  {
   "cell_type": "markdown",
   "id": "96280c21-f618-427b-94d6-502d08f86e8b",
   "metadata": {},
   "source": [
    "### Optimizer and model selection"
   ]
  },
  {
   "cell_type": "code",
   "execution_count": 15,
   "id": "aa874132-ea16-48a2-9463-9addbdc76d19",
   "metadata": {},
   "outputs": [],
   "source": [
    "model = mlp\n",
    "model = model.to(device)\n",
    "optimizer = optim.SGD(model.parameters(), lr=learning_rate, momentum=momentum)\n",
    "scheduler = optim.lr_scheduler.MultiStepLR(\n",
    "    optimizer, milestones=[32000, 48000,], gamma=0.1,\n",
    ")"
   ]
  },
  {
   "cell_type": "markdown",
   "id": "822d1940-c8a0-4cbb-a9c3-377a4ec24582",
   "metadata": {},
   "source": [
    "### Training"
   ]
  },
  {
   "cell_type": "code",
   "execution_count": 16,
   "id": "d59eccca-cfce-4a4a-8b6e-275291326c08",
   "metadata": {},
   "outputs": [
    {
     "name": "stdout",
     "output_type": "stream",
     "text": [
      "Step: 100 | Training Loss: 1.78911\n",
      "Step: 100 | Training Metric: 0.28906\n",
      "Step: 200 | Training Loss: 0.61613\n",
      "Step: 200 | Training Metric: 0.78906\n",
      "Step: 300 | Training Loss: 0.36819\n",
      "Step: 300 | Training Metric: 0.89844\n",
      "Step: 400 | Training Loss: 0.33749\n",
      "Step: 400 | Training Metric: 0.90625\n",
      "Step: 500 | Training Loss: 0.21975\n",
      "Step: 500 | Training Metric: 0.95312\n",
      "Step: 600 | Training Loss: 0.12535\n",
      "Step: 600 | Training Metric: 0.95312\n",
      "Step: 700 | Training Loss: 0.22960\n",
      "Step: 700 | Training Metric: 0.93750\n",
      "Step: 800 | Training Loss: 0.07459\n",
      "Step: 800 | Training Metric: 0.97656\n",
      "Step: 900 | Training Loss: 0.05047\n",
      "Step: 900 | Training Metric: 0.97656\n",
      "Step: 1000 | Training Loss: 0.13690\n",
      "Step: 1000 | Training Metric: 0.96875\n",
      "Step: 1100 | Training Loss: 0.03915\n",
      "Step: 1100 | Training Metric: 0.98438\n",
      "Step: 1200 | Training Loss: 0.11316\n",
      "Step: 1200 | Training Metric: 0.96875\n",
      "Step: 100 | Validation Loss: 0.12783\n",
      "Step: 100 | Validation Metric: 0.96094\n",
      "Step: 1300 | Training Loss: 0.06092\n",
      "Step: 1300 | Training Metric: 0.98438\n",
      "Step: 1400 | Training Loss: 0.07805\n",
      "Step: 1400 | Training Metric: 0.98438\n",
      "Step: 1500 | Training Loss: 0.13591\n",
      "Step: 1500 | Training Metric: 0.96875\n",
      "Step: 1600 | Training Loss: 0.12492\n",
      "Step: 1600 | Training Metric: 0.96875\n",
      "Step: 1700 | Training Loss: 0.09542\n",
      "Step: 1700 | Training Metric: 0.96094\n",
      "Step: 1800 | Training Loss: 0.06910\n",
      "Step: 1800 | Training Metric: 0.97656\n",
      "Step: 1900 | Training Loss: 0.13747\n",
      "Step: 1900 | Training Metric: 0.97656\n",
      "Step: 2000 | Training Loss: 0.09279\n",
      "Step: 2000 | Training Metric: 0.97656\n",
      "Step: 2100 | Training Loss: 0.13627\n",
      "Step: 2100 | Training Metric: 0.96875\n",
      "Step: 200 | Validation Loss: 0.06990\n",
      "Step: 200 | Validation Metric: 0.97656\n",
      "Step: 2200 | Training Loss: 0.15983\n",
      "Step: 2200 | Training Metric: 0.97656\n",
      "Step: 2300 | Training Loss: 0.08303\n",
      "Step: 2300 | Training Metric: 0.97656\n",
      "Step: 2400 | Training Loss: 0.06651\n",
      "Step: 2400 | Training Metric: 0.97656\n",
      "Step: 2500 | Training Loss: 0.05280\n",
      "Step: 2500 | Training Metric: 0.99219\n",
      "Step: 2600 | Training Loss: 0.04806\n",
      "Step: 2600 | Training Metric: 0.98438\n",
      "Step: 2700 | Training Loss: 0.05699\n",
      "Step: 2700 | Training Metric: 0.97656\n",
      "Step: 2800 | Training Loss: 0.03006\n",
      "Step: 2800 | Training Metric: 0.98438\n",
      "Step: 2900 | Training Loss: 0.01526\n",
      "Step: 2900 | Training Metric: 0.99219\n"
     ]
    },
    {
     "ename": "KeyboardInterrupt",
     "evalue": "",
     "output_type": "error",
     "traceback": [
      "\u001b[0;31m---------------------------------------------------------------------------\u001b[0m",
      "\u001b[0;31mKeyboardInterrupt\u001b[0m                         Traceback (most recent call last)",
      "\u001b[0;32m/tmp/ipykernel_11691/3739606659.py\u001b[0m in \u001b[0;36m<module>\u001b[0;34m\u001b[0m\n\u001b[0;32m----> 1\u001b[0;31m training_loop(\n\u001b[0m\u001b[1;32m      2\u001b[0m     \u001b[0mname\u001b[0m\u001b[0;34m=\u001b[0m\u001b[0mexp_name\u001b[0m\u001b[0;34m,\u001b[0m\u001b[0;34m\u001b[0m\u001b[0;34m\u001b[0m\u001b[0m\n\u001b[1;32m      3\u001b[0m     \u001b[0mmodel\u001b[0m\u001b[0;34m=\u001b[0m\u001b[0mmodel\u001b[0m\u001b[0;34m,\u001b[0m\u001b[0;34m\u001b[0m\u001b[0;34m\u001b[0m\u001b[0m\n\u001b[1;32m      4\u001b[0m     \u001b[0mopt\u001b[0m\u001b[0;34m=\u001b[0m\u001b[0moptimizer\u001b[0m\u001b[0;34m,\u001b[0m\u001b[0;34m\u001b[0m\u001b[0;34m\u001b[0m\u001b[0m\n\u001b[1;32m      5\u001b[0m     \u001b[0mscheduler\u001b[0m\u001b[0;34m=\u001b[0m\u001b[0mscheduler\u001b[0m\u001b[0;34m,\u001b[0m\u001b[0;34m\u001b[0m\u001b[0;34m\u001b[0m\u001b[0m\n",
      "\u001b[0;32m~/ptorch_examples/train.py\u001b[0m in \u001b[0;36mtraining_loop\u001b[0;34m(name, model, opt, scheduler, train_loader, eval_loader, loss_fn, device, n_epochs, print_every, write_every, check_every, smoothing_alpha, metric_fn)\u001b[0m\n\u001b[1;32m     60\u001b[0m             \u001b[0mopt\u001b[0m\u001b[0;34m.\u001b[0m\u001b[0mzero_grad\u001b[0m\u001b[0;34m(\u001b[0m\u001b[0;34m)\u001b[0m\u001b[0;34m\u001b[0m\u001b[0;34m\u001b[0m\u001b[0m\n\u001b[1;32m     61\u001b[0m             \u001b[0mloss_item\u001b[0m\u001b[0;34m.\u001b[0m\u001b[0mbackward\u001b[0m\u001b[0;34m(\u001b[0m\u001b[0;34m)\u001b[0m\u001b[0;34m\u001b[0m\u001b[0;34m\u001b[0m\u001b[0m\n\u001b[0;32m---> 62\u001b[0;31m             \u001b[0mopt\u001b[0m\u001b[0;34m.\u001b[0m\u001b[0mstep\u001b[0m\u001b[0;34m(\u001b[0m\u001b[0;34m)\u001b[0m\u001b[0;34m\u001b[0m\u001b[0;34m\u001b[0m\u001b[0m\n\u001b[0m\u001b[1;32m     63\u001b[0m             \u001b[0mscheduler\u001b[0m\u001b[0;34m.\u001b[0m\u001b[0mstep\u001b[0m\u001b[0;34m(\u001b[0m\u001b[0;34m)\u001b[0m\u001b[0;34m\u001b[0m\u001b[0;34m\u001b[0m\u001b[0m\n\u001b[1;32m     64\u001b[0m \u001b[0;34m\u001b[0m\u001b[0m\n",
      "\u001b[0;32m~/miniconda3/envs/ptorch/lib/python3.9/site-packages/torch/optim/lr_scheduler.py\u001b[0m in \u001b[0;36mwrapper\u001b[0;34m(*args, **kwargs)\u001b[0m\n\u001b[1;32m     63\u001b[0m                 \u001b[0minstance\u001b[0m\u001b[0;34m.\u001b[0m\u001b[0m_step_count\u001b[0m \u001b[0;34m+=\u001b[0m \u001b[0;36m1\u001b[0m\u001b[0;34m\u001b[0m\u001b[0;34m\u001b[0m\u001b[0m\n\u001b[1;32m     64\u001b[0m                 \u001b[0mwrapped\u001b[0m \u001b[0;34m=\u001b[0m \u001b[0mfunc\u001b[0m\u001b[0;34m.\u001b[0m\u001b[0m__get__\u001b[0m\u001b[0;34m(\u001b[0m\u001b[0minstance\u001b[0m\u001b[0;34m,\u001b[0m \u001b[0mcls\u001b[0m\u001b[0;34m)\u001b[0m\u001b[0;34m\u001b[0m\u001b[0;34m\u001b[0m\u001b[0m\n\u001b[0;32m---> 65\u001b[0;31m                 \u001b[0;32mreturn\u001b[0m \u001b[0mwrapped\u001b[0m\u001b[0;34m(\u001b[0m\u001b[0;34m*\u001b[0m\u001b[0margs\u001b[0m\u001b[0;34m,\u001b[0m \u001b[0;34m**\u001b[0m\u001b[0mkwargs\u001b[0m\u001b[0;34m)\u001b[0m\u001b[0;34m\u001b[0m\u001b[0;34m\u001b[0m\u001b[0m\n\u001b[0m\u001b[1;32m     66\u001b[0m \u001b[0;34m\u001b[0m\u001b[0m\n\u001b[1;32m     67\u001b[0m             \u001b[0;31m# Note that the returned function here is no longer a bound method,\u001b[0m\u001b[0;34m\u001b[0m\u001b[0;34m\u001b[0m\u001b[0m\n",
      "\u001b[0;32m~/miniconda3/envs/ptorch/lib/python3.9/site-packages/torch/optim/optimizer.py\u001b[0m in \u001b[0;36mwrapper\u001b[0;34m(*args, **kwargs)\u001b[0m\n\u001b[1;32m     86\u001b[0m                 \u001b[0mprofile_name\u001b[0m \u001b[0;34m=\u001b[0m \u001b[0;34m\"Optimizer.step#{}.step\"\u001b[0m\u001b[0;34m.\u001b[0m\u001b[0mformat\u001b[0m\u001b[0;34m(\u001b[0m\u001b[0mobj\u001b[0m\u001b[0;34m.\u001b[0m\u001b[0m__class__\u001b[0m\u001b[0;34m.\u001b[0m\u001b[0m__name__\u001b[0m\u001b[0;34m)\u001b[0m\u001b[0;34m\u001b[0m\u001b[0;34m\u001b[0m\u001b[0m\n\u001b[1;32m     87\u001b[0m                 \u001b[0;32mwith\u001b[0m \u001b[0mtorch\u001b[0m\u001b[0;34m.\u001b[0m\u001b[0mautograd\u001b[0m\u001b[0;34m.\u001b[0m\u001b[0mprofiler\u001b[0m\u001b[0;34m.\u001b[0m\u001b[0mrecord_function\u001b[0m\u001b[0;34m(\u001b[0m\u001b[0mprofile_name\u001b[0m\u001b[0;34m)\u001b[0m\u001b[0;34m:\u001b[0m\u001b[0;34m\u001b[0m\u001b[0;34m\u001b[0m\u001b[0m\n\u001b[0;32m---> 88\u001b[0;31m                     \u001b[0;32mreturn\u001b[0m \u001b[0mfunc\u001b[0m\u001b[0;34m(\u001b[0m\u001b[0;34m*\u001b[0m\u001b[0margs\u001b[0m\u001b[0;34m,\u001b[0m \u001b[0;34m**\u001b[0m\u001b[0mkwargs\u001b[0m\u001b[0;34m)\u001b[0m\u001b[0;34m\u001b[0m\u001b[0;34m\u001b[0m\u001b[0m\n\u001b[0m\u001b[1;32m     89\u001b[0m             \u001b[0;32mreturn\u001b[0m \u001b[0mwrapper\u001b[0m\u001b[0;34m\u001b[0m\u001b[0;34m\u001b[0m\u001b[0m\n\u001b[1;32m     90\u001b[0m \u001b[0;34m\u001b[0m\u001b[0m\n",
      "\u001b[0;32m~/miniconda3/envs/ptorch/lib/python3.9/site-packages/torch/autograd/grad_mode.py\u001b[0m in \u001b[0;36mdecorate_context\u001b[0;34m(*args, **kwargs)\u001b[0m\n\u001b[1;32m     26\u001b[0m         \u001b[0;32mdef\u001b[0m \u001b[0mdecorate_context\u001b[0m\u001b[0;34m(\u001b[0m\u001b[0;34m*\u001b[0m\u001b[0margs\u001b[0m\u001b[0;34m,\u001b[0m \u001b[0;34m**\u001b[0m\u001b[0mkwargs\u001b[0m\u001b[0;34m)\u001b[0m\u001b[0;34m:\u001b[0m\u001b[0;34m\u001b[0m\u001b[0;34m\u001b[0m\u001b[0m\n\u001b[1;32m     27\u001b[0m             \u001b[0;32mwith\u001b[0m \u001b[0mself\u001b[0m\u001b[0;34m.\u001b[0m\u001b[0m__class__\u001b[0m\u001b[0;34m(\u001b[0m\u001b[0;34m)\u001b[0m\u001b[0;34m:\u001b[0m\u001b[0;34m\u001b[0m\u001b[0;34m\u001b[0m\u001b[0m\n\u001b[0;32m---> 28\u001b[0;31m                 \u001b[0;32mreturn\u001b[0m \u001b[0mfunc\u001b[0m\u001b[0;34m(\u001b[0m\u001b[0;34m*\u001b[0m\u001b[0margs\u001b[0m\u001b[0;34m,\u001b[0m \u001b[0;34m**\u001b[0m\u001b[0mkwargs\u001b[0m\u001b[0;34m)\u001b[0m\u001b[0;34m\u001b[0m\u001b[0;34m\u001b[0m\u001b[0m\n\u001b[0m\u001b[1;32m     29\u001b[0m         \u001b[0;32mreturn\u001b[0m \u001b[0mcast\u001b[0m\u001b[0;34m(\u001b[0m\u001b[0mF\u001b[0m\u001b[0;34m,\u001b[0m \u001b[0mdecorate_context\u001b[0m\u001b[0;34m)\u001b[0m\u001b[0;34m\u001b[0m\u001b[0;34m\u001b[0m\u001b[0m\n\u001b[1;32m     30\u001b[0m \u001b[0;34m\u001b[0m\u001b[0m\n",
      "\u001b[0;32m~/miniconda3/envs/ptorch/lib/python3.9/site-packages/torch/optim/sgd.py\u001b[0m in \u001b[0;36mstep\u001b[0;34m(self, closure)\u001b[0m\n\u001b[1;32m    108\u001b[0m                         \u001b[0mmomentum_buffer_list\u001b[0m\u001b[0;34m.\u001b[0m\u001b[0mappend\u001b[0m\u001b[0;34m(\u001b[0m\u001b[0mstate\u001b[0m\u001b[0;34m[\u001b[0m\u001b[0;34m'momentum_buffer'\u001b[0m\u001b[0;34m]\u001b[0m\u001b[0;34m)\u001b[0m\u001b[0;34m\u001b[0m\u001b[0;34m\u001b[0m\u001b[0m\n\u001b[1;32m    109\u001b[0m \u001b[0;34m\u001b[0m\u001b[0m\n\u001b[0;32m--> 110\u001b[0;31m             F.sgd(params_with_grad,\n\u001b[0m\u001b[1;32m    111\u001b[0m                   \u001b[0md_p_list\u001b[0m\u001b[0;34m,\u001b[0m\u001b[0;34m\u001b[0m\u001b[0;34m\u001b[0m\u001b[0m\n\u001b[1;32m    112\u001b[0m                   \u001b[0mmomentum_buffer_list\u001b[0m\u001b[0;34m,\u001b[0m\u001b[0;34m\u001b[0m\u001b[0;34m\u001b[0m\u001b[0m\n",
      "\u001b[0;32m~/miniconda3/envs/ptorch/lib/python3.9/site-packages/torch/optim/_functional.py\u001b[0m in \u001b[0;36msgd\u001b[0;34m(params, d_p_list, momentum_buffer_list, weight_decay, momentum, lr, dampening, nesterov)\u001b[0m\n\u001b[1;32m    171\u001b[0m                 \u001b[0mmomentum_buffer_list\u001b[0m\u001b[0;34m[\u001b[0m\u001b[0mi\u001b[0m\u001b[0;34m]\u001b[0m \u001b[0;34m=\u001b[0m \u001b[0mbuf\u001b[0m\u001b[0;34m\u001b[0m\u001b[0;34m\u001b[0m\u001b[0m\n\u001b[1;32m    172\u001b[0m             \u001b[0;32melse\u001b[0m\u001b[0;34m:\u001b[0m\u001b[0;34m\u001b[0m\u001b[0;34m\u001b[0m\u001b[0m\n\u001b[0;32m--> 173\u001b[0;31m                 \u001b[0mbuf\u001b[0m\u001b[0;34m.\u001b[0m\u001b[0mmul_\u001b[0m\u001b[0;34m(\u001b[0m\u001b[0mmomentum\u001b[0m\u001b[0;34m)\u001b[0m\u001b[0;34m.\u001b[0m\u001b[0madd_\u001b[0m\u001b[0;34m(\u001b[0m\u001b[0md_p\u001b[0m\u001b[0;34m,\u001b[0m \u001b[0malpha\u001b[0m\u001b[0;34m=\u001b[0m\u001b[0;36m1\u001b[0m \u001b[0;34m-\u001b[0m \u001b[0mdampening\u001b[0m\u001b[0;34m)\u001b[0m\u001b[0;34m\u001b[0m\u001b[0;34m\u001b[0m\u001b[0m\n\u001b[0m\u001b[1;32m    174\u001b[0m \u001b[0;34m\u001b[0m\u001b[0m\n\u001b[1;32m    175\u001b[0m             \u001b[0;32mif\u001b[0m \u001b[0mnesterov\u001b[0m\u001b[0;34m:\u001b[0m\u001b[0;34m\u001b[0m\u001b[0;34m\u001b[0m\u001b[0m\n",
      "\u001b[0;31mKeyboardInterrupt\u001b[0m: "
     ]
    }
   ],
   "source": [
    "training_loop(\n",
    "    name=exp_name,\n",
    "    model=model,\n",
    "    opt=optimizer,\n",
    "    scheduler=scheduler,\n",
    "    train_loader=train_data,\n",
    "    eval_loader=eval_data,\n",
    "    loss_fn=F.cross_entropy,\n",
    "    metric_fn=accuracy,\n",
    "    n_epochs=n_epochs,\n",
    "    device=device,\n",
    "    print_every=100,\n",
    "    write_every=100,\n",
    "    check_every=100,\n",
    ")"
   ]
  },
  {
   "cell_type": "markdown",
   "id": "0eb4df30-bc92-479d-9a11-ecea0a746c48",
   "metadata": {},
   "source": [
    "### Load from checkpoint"
   ]
  },
  {
   "cell_type": "code",
   "execution_count": 17,
   "id": "b6d6c0cc-e2fe-41dd-a70d-c3adc6ce4995",
   "metadata": {},
   "outputs": [
    {
     "data": {
      "text/plain": [
       "<All keys matched successfully>"
      ]
     },
     "execution_count": 17,
     "metadata": {},
     "output_type": "execute_result"
    }
   ],
   "source": [
    "loaded = torch.load(\n",
    "    os.path.join(os.path.join(\"data\", \"checkpoints\"), \"mlp-mnist-2900.pt\"),\n",
    "    map_location=device,\n",
    ")\n",
    "model.load_state_dict(loaded[\"model_state\"])"
   ]
  },
  {
   "cell_type": "markdown",
   "id": "8db8ac43-84fe-4a80-952d-9faa3458a96e",
   "metadata": {},
   "source": [
    "### Load test data"
   ]
  },
  {
   "cell_type": "code",
   "execution_count": 20,
   "id": "37d5372f-e76b-41d8-80dd-1856c2c074de",
   "metadata": {},
   "outputs": [
    {
     "name": "stdout",
     "output_type": "stream",
     "text": [
      "Dataset lengths: train-10000, val-0\n"
     ]
    }
   ],
   "source": [
    "test_loader, should_be_none = get_image_data_loader(\n",
    "    dataset_name,\n",
    "    train=False,\n",
    "    val_share=0.1,\n",
    "    shuffle=True,\n",
    "    batch_size=10,\n",
    "    single_batch=False,\n",
    ")\n",
    "assert should_be_none is None"
   ]
  },
  {
   "cell_type": "markdown",
   "id": "4aa89803-602e-4d2c-8a16-269f95016eef",
   "metadata": {},
   "source": [
    "### Evaluated the loaded model"
   ]
  },
  {
   "cell_type": "code",
   "execution_count": 21,
   "id": "b464b1cf-6dcd-4f74-bfbb-7f8e83be0e14",
   "metadata": {},
   "outputs": [
    {
     "name": "stdout",
     "output_type": "stream",
     "text": [
      "Testing completed, Metric: 0.97230, Loss: 0.10392\n",
      "Grid generated with labels: [7 3 1 5 0 6 2 0 3 3]\n",
      "Corresponding predictions: [7 3 1 5 0 6 3 0 3 3]\n"
     ]
    },
    {
     "data": {
      "image/png": "[encoded data removed]",
      "text/plain": [
       "<Figure size 432x288 with 1 Axes>"
      ]
     },
     "metadata": {},
     "output_type": "display_data"
    }
   ],
   "source": [
    "test_loop(\n",
    "    test_loader=test_loader,\n",
    "    model=model,\n",
    "    device=device,\n",
    "    metric_fn=accuracy,\n",
    "    plot=True,\n",
    "    loss_fn=F.cross_entropy,\n",
    ")"
   ]
  }
 ],
 "metadata": {
  "kernelspec": {
   "display_name": "Python 3 (ipykernel)",
   "language": "python",
   "name": "python3"
  },
  "language_info": {
   "codemirror_mode": {
    "name": "ipython",
    "version": 3
   },
   "file_extension": ".py",
   "mimetype": "text/x-python",
   "name": "python",
   "nbconvert_exporter": "python",
   "pygments_lexer": "ipython3",
   "version": "3.9.7"
  }
 },
 "nbformat": 4,
 "nbformat_minor": 5
}
