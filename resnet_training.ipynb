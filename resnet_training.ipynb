{
 "cells": [
  {
   "cell_type": "markdown",
   "id": "2bcf344c-43f6-4ae1-a9be-35185f3a7bc0",
   "metadata": {},
   "source": [
    "## ResNet training notebook"
   ]
  },
  {
   "cell_type": "code",
   "execution_count": 1,
   "id": "06132d9f-d8c0-46b0-a62a-1dcc614c2c33",
   "metadata": {},
   "outputs": [],
   "source": [
    "from src.args import ResNetExpArgs, TrainingArgs, to_exp_name\n",
    "from src.data_loading import get_image_data_loader, transforms_image_net\n",
    "from src.models import MLP, ResNet\n",
    "from src.test import test_loop\n",
    "from src.train import training_loop\n",
    "from src.utils import accuracy, get_optimizer"
   ]
  },
  {
   "cell_type": "code",
   "execution_count": 2,
   "id": "fa28d56d-3d7a-4511-a414-d136f70b781d",
   "metadata": {},
   "outputs": [],
   "source": [
    "import os\n",
    "\n",
    "import matplotlib.pyplot as plt\n",
    "import numpy as np\n",
    "import torch\n",
    "import torch.nn as nn\n",
    "import torch.nn.functional as F\n",
    "import torch.optim as optim\n",
    "from torchsummary import summary"
   ]
  },
  {
   "cell_type": "markdown",
   "id": "88dcec6f-b0de-4fcd-a035-92744145f98a",
   "metadata": {},
   "source": [
    "### Params"
   ]
  },
  {
   "cell_type": "code",
   "execution_count": 3,
   "id": "852e31c5-c667-4c8f-bb38-f8b00124e96f",
   "metadata": {},
   "outputs": [
    {
     "data": {
      "text/plain": [
       "('cpu', 'mnist_128_0.1_1_0.9_0.0001_True_0_2_0.1_0.5_True_True_False')"
      ]
     },
     "execution_count": 3,
     "metadata": {},
     "output_type": "execute_result"
    }
   ],
   "source": [
    "args = ResNetExpArgs(\n",
    "    batch_size=128,\n",
    "    dataset_name=\"mnist\",\n",
    "    learning_rate=0.1,\n",
    "    num_epochs=1,\n",
    "    momentum=0.9,\n",
    "    weight_decay=0.0001,\n",
    "    cosine_lr=True,\n",
    "    warmup_epochs=0,\n",
    "    decay_interval=2,\n",
    "    decay_gamma=0.1,\n",
    "    mixup_alpha=0.5,\n",
    "    lean_stem=True,\n",
    "    smart_downsampling=True,\n",
    "    use_gpu=False,\n",
    ")\n",
    "\n",
    "training_args = TrainingArgs(\n",
    "    args.batch_size,\n",
    "    10,  # num classes\n",
    "    args.num_epochs,\n",
    "    args.cosine_lr,\n",
    "    args.warmup_epochs,\n",
    "    args.decay_interval,\n",
    "    args.decay_gamma,\n",
    "    args.mixup_alpha,\n",
    "    print_every=1,\n",
    "    write_every=1,\n",
    "    plot_every=0,\n",
    "    check_every=0,\n",
    ")\n",
    "\n",
    "dataset_to_n_classes = {\n",
    "    \"mnist\": 10,\n",
    "    \"cifar10\": 10,\n",
    "    \"fmnist\": 10,\n",
    "}\n",
    "\n",
    "exp_name = to_exp_name(args)\n",
    "device = \"cuda\" if args.use_gpu else \"cpu\"\n",
    "if args.use_gpu:\n",
    "    assert torch.cuda.is_available()\n",
    "device, exp_name"
   ]
  },
  {
   "cell_type": "markdown",
   "id": "b17fd92d-c5f4-45c4-b020-a055be41f5be",
   "metadata": {},
   "source": [
    "### Data loading"
   ]
  },
  {
   "cell_type": "code",
   "execution_count": 4,
   "id": "657b1add-05ce-4268-a035-b62b71bcb4d9",
   "metadata": {},
   "outputs": [
    {
     "name": "stdout",
     "output_type": "stream",
     "text": [
      "Dataset lengths: train-54000, val-6000\n"
     ]
    },
    {
     "name": "stderr",
     "output_type": "stream",
     "text": [
      "/home/arnaud15/miniconda3/envs/ptorch/lib/python3.9/site-packages/torchvision/datasets/mnist.py:498: UserWarning: The given NumPy array is not writeable, and PyTorch does not support non-writeable tensors. This means you can write to the underlying (supposedly non-writeable) NumPy array using the tensor. You may want to copy the array to protect its data or make it writeable before converting it to a tensor. This type of warning will be suppressed for the rest of this program. (Triggered internally at  /opt/conda/conda-bld/pytorch_1631630778054/work/torch/csrc/utils/tensor_numpy.cpp:180.)\n",
      "  return torch.from_numpy(parsed.astype(m[2], copy=False)).view(*s)\n"
     ]
    }
   ],
   "source": [
    "transform = transforms_image_net(\n",
    "    crop=True,\n",
    "    crop_size=28,\n",
    "    flip=True,\n",
    "    colors=True,\n",
    "    standardize=False,\n",
    "    is_image=True,\n",
    ")\n",
    "\n",
    "train_data, eval_data = get_image_data_loader(\n",
    "    args.dataset_name,\n",
    "    train=True,\n",
    "    val_share=0.1,\n",
    "    shuffle=True,\n",
    "    batch_size=args.batch_size,\n",
    "    single_batch=False,\n",
    "    transform=transform,\n",
    ")"
   ]
  },
  {
   "cell_type": "markdown",
   "id": "96280c21-f618-427b-94d6-502d08f86e8b",
   "metadata": {},
   "source": [
    "### Model selection"
   ]
  },
  {
   "cell_type": "code",
   "execution_count": 5,
   "id": "282f96c7-e47e-48c2-bba1-b8b715d460bb",
   "metadata": {},
   "outputs": [],
   "source": [
    "# ImageNet version\n",
    "# resnet_imagenet = Resnet(\n",
    "# img_channels=3,\n",
    "# n_classes=10,\n",
    "# extra_blocks_per_layer=[1, 3, 5, 2,],\n",
    "# resnet_channels=[64, 128, 256, 512],\n",
    "# stem_channels=64,\n",
    "# stem_downsample=True,\n",
    "# )\n",
    "# Cifar10 version\n",
    "# resnet_cifar = ResNet(\n",
    "#     img_channels=3,\n",
    "#     n_classes=10,\n",
    "#     extra_blocks_per_layer=[5, 5, 5],\n",
    "#     resnet_channels=[16, 32, 64],\n",
    "#     stem_channels=16,\n",
    "#     stem_conv_size=7 if not args.lean_stem else 3,\n",
    "#     stem_downsample=False,\n",
    "#     slender_stem=args.lean_stem,\n",
    "#     better_downsampling=args.smart_downsampling,\n",
    "# )\n",
    "# print(summary(resnet_cifar.to(device), (3, 32, 32)))\n",
    "baby_resnet = ResNet(\n",
    "    img_channels=1,\n",
    "    n_classes=10,\n",
    "    extra_blocks_per_layer=[1, 1],\n",
    "    resnet_channels=[16, 32,],\n",
    "    stem_channels=16,\n",
    "    stem_downsample=False,\n",
    "    slender_stem=True,\n",
    "    better_downsampling=True,\n",
    ")\n",
    "model = baby_resnet\n",
    "model = model.to(device)"
   ]
  },
  {
   "cell_type": "markdown",
   "id": "822d1940-c8a0-4cbb-a9c3-377a4ec24582",
   "metadata": {},
   "source": [
    "### Training"
   ]
  },
  {
   "cell_type": "code",
   "execution_count": null,
   "id": "7371630f-e4ed-43ca-8c61-428c361c59f6",
   "metadata": {},
   "outputs": [
    {
     "name": "stdout",
     "output_type": "stream",
     "text": [
      "Training starts for mnist_debug\n",
      "Post-warmup begins\n",
      "Start of epoch 1\n",
      "Step: 1 | Training Loss: 1.90154\n",
      "Step: 1 | Training Metric: 0.50781\n",
      "Step: 2 | Training Loss: 1.72300\n",
      "Step: 2 | Training Metric: 0.50781\n",
      "Step: 3 | Training Loss: 1.99653\n",
      "Step: 3 | Training Metric: 0.43750\n",
      "Step: 4 | Training Loss: 1.93847\n",
      "Step: 4 | Training Metric: 0.57031\n",
      "Step: 5 | Training Loss: 1.78402\n",
      "Step: 5 | Training Metric: 0.65625\n",
      "Step: 6 | Training Loss: 2.12612\n",
      "Step: 6 | Training Metric: 0.67188\n",
      "Step: 7 | Training Loss: 1.71375\n",
      "Step: 7 | Training Metric: 0.68750\n",
      "Step: 8 | Training Loss: 1.83563\n",
      "Step: 8 | Training Metric: 0.75000\n",
      "Step: 9 | Training Loss: 1.80931\n",
      "Step: 9 | Training Metric: 0.68750\n",
      "Step: 10 | Training Loss: 2.07925\n",
      "Step: 10 | Training Metric: 0.77344\n",
      "Step: 11 | Training Loss: 1.61666\n",
      "Step: 11 | Training Metric: 0.71094\n",
      "Step: 12 | Training Loss: 1.86732\n",
      "Step: 12 | Training Metric: 0.71094\n",
      "Step: 13 | Training Loss: 2.08319\n",
      "Step: 13 | Training Metric: 0.75781\n",
      "Step: 14 | Training Loss: 1.59920\n",
      "Step: 14 | Training Metric: 0.66406\n",
      "Step: 15 | Training Loss: 1.60757\n",
      "Step: 15 | Training Metric: 0.62500\n"
     ]
    }
   ],
   "source": [
    "no_decay, decay = model.get_params()\n",
    "optimizer = get_optimizer(\n",
    "    decay_params=decay,\n",
    "    no_decay_params=no_decay,\n",
    "    lr=args.learning_rate,\n",
    "    momentum=args.momentum,\n",
    "    weight_decay=args.weight_decay,\n",
    ")\n",
    "\n",
    "if args.mixup_alpha is not None:\n",
    "    loss_fn = lambda inputs, targets: nn.KLDivLoss(reduction=\"batchmean\")(\n",
    "        nn.LogSoftmax(dim=1)(inputs), targets\n",
    "    )\n",
    "else:\n",
    "    loss_fn = nn.CrossEntropyLoss(reduction=\"mean\")\n",
    "training_loop(\n",
    "    \"mnist_debug\",\n",
    "    args=training_args,\n",
    "    model=model,\n",
    "    opt=optimizer,\n",
    "    train_loader=train_data,\n",
    "    eval_loader=eval_data,\n",
    "    loss_fn=loss_fn,\n",
    "    device=device,\n",
    "    metric_fn=accuracy,\n",
    ")"
   ]
  },
  {
   "cell_type": "markdown",
   "id": "0eb4df30-bc92-479d-9a11-ecea0a746c48",
   "metadata": {},
   "source": [
    "### Load from checkpoint"
   ]
  },
  {
   "cell_type": "code",
   "execution_count": null,
   "id": "b6d6c0cc-e2fe-41dd-a70d-c3adc6ce4995",
   "metadata": {},
   "outputs": [],
   "source": [
    "loaded = torch.load(\n",
    "    os.path.join(os.path.join(\"data\", \"checkpoints\"), f\"{exp_name}-70000.pt\"),\n",
    "    map_location=device,\n",
    ")\n",
    "model.load_state_dict(loaded[\"model_state\"])"
   ]
  },
  {
   "cell_type": "markdown",
   "id": "8db8ac43-84fe-4a80-952d-9faa3458a96e",
   "metadata": {},
   "source": [
    "### Load test data"
   ]
  },
  {
   "cell_type": "code",
   "execution_count": null,
   "id": "37d5372f-e76b-41d8-80dd-1856c2c074de",
   "metadata": {},
   "outputs": [],
   "source": [
    "test_loader, should_be_none = get_image_data_loader(\n",
    "    args.dataset_name,\n",
    "    train=False,\n",
    "    val_share=0.1,\n",
    "    shuffle=True,\n",
    "    batch_size=args.batch_size,\n",
    "    single_batch=False,\n",
    ")\n",
    "assert should_be_none is None"
   ]
  },
  {
   "cell_type": "markdown",
   "id": "4aa89803-602e-4d2c-8a16-269f95016eef",
   "metadata": {},
   "source": [
    "### Evaluate the loaded model"
   ]
  },
  {
   "cell_type": "code",
   "execution_count": null,
   "id": "b464b1cf-6dcd-4f74-bfbb-7f8e83be0e14",
   "metadata": {},
   "outputs": [],
   "source": [
    "test_loop(\n",
    "    test_loader=test_loader,\n",
    "    model=model,\n",
    "    device=device,\n",
    "    metric_fn=accuracy,\n",
    "    plot=True,\n",
    "    loss_fn=F.cross_entropy,\n",
    ")"
   ]
  },
  {
   "cell_type": "code",
   "execution_count": null,
   "id": "7e9aebfe-30f1-44a6-a841-9bad7dbb3b54",
   "metadata": {},
   "outputs": [],
   "source": []
  }
 ],
 "metadata": {
  "kernelspec": {
   "display_name": "Python 3 (ipykernel)",
   "language": "python",
   "name": "python3"
  },
  "language_info": {
   "codemirror_mode": {
    "name": "ipython",
    "version": 3
   },
   "file_extension": ".py",
   "mimetype": "text/x-python",
   "name": "python",
   "nbconvert_exporter": "python",
   "pygments_lexer": "ipython3",
   "version": "3.9.7"
  }
 },
 "nbformat": 4,
 "nbformat_minor": 5
}
