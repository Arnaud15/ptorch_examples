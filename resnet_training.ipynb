{
 "cells": [
  {
   "cell_type": "markdown",
   "id": "2bcf344c-43f6-4ae1-a9be-35185f3a7bc0",
   "metadata": {},
   "source": [
    "## ResNet training notebook"
   ]
  },
  {
   "cell_type": "code",
   "execution_count": 7,
   "id": "06132d9f-d8c0-46b0-a62a-1dcc614c2c33",
   "metadata": {},
   "outputs": [],
   "source": [
    "from src.args import ResNetExpArgs, TrainingArgs, to_exp_name\n",
    "from src.data_loading import get_image_data_loader, transforms_image_net\n",
    "from src.models import MLP, ResNet\n",
    "from src.test import test_loop\n",
    "from src.train import training_loop\n",
    "from src.utils import accuracy, get_optimizer"
   ]
  },
  {
   "cell_type": "code",
   "execution_count": 8,
   "id": "fa28d56d-3d7a-4511-a414-d136f70b781d",
   "metadata": {},
   "outputs": [],
   "source": [
    "import os\n",
    "\n",
    "import matplotlib.pyplot as plt\n",
    "import numpy as np\n",
    "import torch\n",
    "import torch.nn as nn\n",
    "import torch.nn.functional as F\n",
    "import torch.optim as optim\n",
    "from torchsummary import summary"
   ]
  },
  {
   "cell_type": "markdown",
   "id": "88dcec6f-b0de-4fcd-a035-92744145f98a",
   "metadata": {},
   "source": [
    "### Params"
   ]
  },
  {
   "cell_type": "code",
   "execution_count": 9,
   "id": "852e31c5-c667-4c8f-bb38-f8b00124e96f",
   "metadata": {},
   "outputs": [
    {
     "data": {
      "text/plain": [
       "('cuda', 'cifar10_128_0.1_300_0.9_1e-05_True_5_2_0.1_0.5_True_True_True')"
      ]
     },
     "execution_count": 9,
     "metadata": {},
     "output_type": "execute_result"
    }
   ],
   "source": [
    "args = ResNetExpArgs(\n",
    "    batch_size=128,\n",
    "    dataset_name=\"cifar10\",\n",
    "    learning_rate=0.1,\n",
    "    num_epochs=300,\n",
    "    momentum=0.9,\n",
    "    weight_decay=0.00001,\n",
    "    cosine_lr=True,\n",
    "    warmup_epochs=5,\n",
    "    decay_interval=2,\n",
    "    decay_gamma=0.1,\n",
    "    mixup_alpha=0.5,\n",
    "    lean_stem=True,\n",
    "    smart_downsampling=True,\n",
    "    use_gpu=True,\n",
    ")\n",
    "\n",
    "training_args = TrainingArgs(\n",
    "    batch_size=args.batch_size,\n",
    "    num_classes=10,\n",
    "    num_epochs=args.num_epochs,\n",
    "    learning_rate=args.learning_rate,\n",
    "    cosine_lr=args.cosine_lr,\n",
    "    warmup_epochs=args.warmup_epochs,\n",
    "    decay_interval=args.decay_interval,\n",
    "    decay_gamma=args.decay_gamma,\n",
    "    mixup_alpha=args.mixup_alpha,\n",
    "    print_every=1000,\n",
    "    write_every=1000,\n",
    "    plot_every=10000,\n",
    "    check_every=10000,\n",
    ")\n",
    "\n",
    "dataset_to_n_classes = {\n",
    "    \"mnist\": 10,\n",
    "    \"cifar10\": 10,\n",
    "    \"fmnist\": 10,\n",
    "}\n",
    "\n",
    "exp_name = to_exp_name(args)\n",
    "device = \"cuda\" if args.use_gpu else \"cpu\"\n",
    "if args.use_gpu:\n",
    "    assert torch.cuda.is_available()\n",
    "device, exp_name"
   ]
  },
  {
   "cell_type": "markdown",
   "id": "b17fd92d-c5f4-45c4-b020-a055be41f5be",
   "metadata": {},
   "source": [
    "### Data loading"
   ]
  },
  {
   "cell_type": "code",
   "execution_count": 10,
   "id": "657b1add-05ce-4268-a035-b62b71bcb4d9",
   "metadata": {},
   "outputs": [
    {
     "name": "stdout",
     "output_type": "stream",
     "text": [
      "Files already downloaded and verified\n",
      "Dataset lengths: train-45000, val-5000\n"
     ]
    }
   ],
   "source": [
    "transform = transforms_image_net(\n",
    "    crop=True,\n",
    "    crop_size=28,\n",
    "    flip=True,\n",
    "    colors=True,\n",
    "    standardize=False,\n",
    "    is_image=True,\n",
    ")\n",
    "\n",
    "train_data, eval_data = get_image_data_loader(\n",
    "    args.dataset_name,\n",
    "    train=True,\n",
    "    val_share=0.1,\n",
    "    shuffle=True,\n",
    "    batch_size=args.batch_size,\n",
    "    single_batch=False,\n",
    "    transform=transform,\n",
    ")"
   ]
  },
  {
   "cell_type": "markdown",
   "id": "96280c21-f618-427b-94d6-502d08f86e8b",
   "metadata": {},
   "source": [
    "### Model selection"
   ]
  },
  {
   "cell_type": "code",
   "execution_count": 12,
   "id": "282f96c7-e47e-48c2-bba1-b8b715d460bb",
   "metadata": {},
   "outputs": [
    {
     "name": "stdout",
     "output_type": "stream",
     "text": [
      "----------------------------------------------------------------\n",
      "        Layer (type)               Output Shape         Param #\n",
      "================================================================\n",
      "            Conv2d-1           [-1, 16, 32, 32]             448\n",
      "       BatchNorm2d-2           [-1, 16, 32, 32]              32\n",
      "            Conv2d-3           [-1, 16, 32, 32]           2,320\n",
      "       BatchNorm2d-4           [-1, 16, 32, 32]              32\n",
      "            Conv2d-5           [-1, 16, 32, 32]           2,320\n",
      "       BatchNorm2d-6           [-1, 16, 32, 32]              32\n",
      "         MaxPool2d-7           [-1, 16, 32, 32]               0\n",
      "        ResnetStem-8           [-1, 16, 32, 32]               0\n",
      "            Conv2d-9           [-1, 16, 32, 32]             272\n",
      "      BatchNorm2d-10           [-1, 16, 32, 32]              32\n",
      "           Conv2d-11           [-1, 16, 32, 32]           2,320\n",
      "      BatchNorm2d-12           [-1, 16, 32, 32]              32\n",
      "           Conv2d-13           [-1, 64, 32, 32]           1,088\n",
      "      BatchNorm2d-14           [-1, 64, 32, 32]             128\n",
      "           Conv2d-15           [-1, 64, 32, 32]           1,088\n",
      "      BatchNorm2d-16           [-1, 64, 32, 32]             128\n",
      "BottleneckProjection-17           [-1, 64, 32, 32]               0\n",
      "           Conv2d-18           [-1, 16, 32, 32]           1,040\n",
      "      BatchNorm2d-19           [-1, 16, 32, 32]              32\n",
      "           Conv2d-20           [-1, 16, 32, 32]           2,320\n",
      "      BatchNorm2d-21           [-1, 16, 32, 32]              32\n",
      "           Conv2d-22           [-1, 64, 32, 32]           1,088\n",
      "      BatchNorm2d-23           [-1, 64, 32, 32]             128\n",
      "  BottleneckPlain-24           [-1, 64, 32, 32]               0\n",
      "           Conv2d-25           [-1, 16, 32, 32]           1,040\n",
      "      BatchNorm2d-26           [-1, 16, 32, 32]              32\n",
      "           Conv2d-27           [-1, 16, 32, 32]           2,320\n",
      "      BatchNorm2d-28           [-1, 16, 32, 32]              32\n",
      "           Conv2d-29           [-1, 64, 32, 32]           1,088\n",
      "      BatchNorm2d-30           [-1, 64, 32, 32]             128\n",
      "  BottleneckPlain-31           [-1, 64, 32, 32]               0\n",
      "           Conv2d-32           [-1, 16, 32, 32]           1,040\n",
      "      BatchNorm2d-33           [-1, 16, 32, 32]              32\n",
      "           Conv2d-34           [-1, 16, 32, 32]           2,320\n",
      "      BatchNorm2d-35           [-1, 16, 32, 32]              32\n",
      "           Conv2d-36           [-1, 64, 32, 32]           1,088\n",
      "      BatchNorm2d-37           [-1, 64, 32, 32]             128\n",
      "  BottleneckPlain-38           [-1, 64, 32, 32]               0\n",
      "           Conv2d-39           [-1, 16, 32, 32]           1,040\n",
      "      BatchNorm2d-40           [-1, 16, 32, 32]              32\n",
      "           Conv2d-41           [-1, 16, 32, 32]           2,320\n",
      "      BatchNorm2d-42           [-1, 16, 32, 32]              32\n",
      "           Conv2d-43           [-1, 64, 32, 32]           1,088\n",
      "      BatchNorm2d-44           [-1, 64, 32, 32]             128\n",
      "  BottleneckPlain-45           [-1, 64, 32, 32]               0\n",
      "           Conv2d-46           [-1, 16, 32, 32]           1,040\n",
      "      BatchNorm2d-47           [-1, 16, 32, 32]              32\n",
      "           Conv2d-48           [-1, 16, 32, 32]           2,320\n",
      "      BatchNorm2d-49           [-1, 16, 32, 32]              32\n",
      "           Conv2d-50           [-1, 64, 32, 32]           1,088\n",
      "      BatchNorm2d-51           [-1, 64, 32, 32]             128\n",
      "  BottleneckPlain-52           [-1, 64, 32, 32]               0\n",
      "      ResnetLayer-53           [-1, 64, 32, 32]               0\n",
      "           Conv2d-54           [-1, 32, 32, 32]           2,080\n",
      "      BatchNorm2d-55           [-1, 32, 32, 32]              64\n",
      "           Conv2d-56           [-1, 32, 16, 16]           9,248\n",
      "      BatchNorm2d-57           [-1, 32, 16, 16]              64\n",
      "           Conv2d-58          [-1, 128, 16, 16]           4,224\n",
      "      BatchNorm2d-59          [-1, 128, 16, 16]             256\n",
      "        AvgPool2d-60           [-1, 64, 16, 16]               0\n",
      "           Conv2d-61          [-1, 128, 16, 16]           8,320\n",
      "      BatchNorm2d-62          [-1, 128, 16, 16]             256\n",
      "BottleneckProjection-63          [-1, 128, 16, 16]               0\n",
      "           Conv2d-64           [-1, 32, 16, 16]           4,128\n",
      "      BatchNorm2d-65           [-1, 32, 16, 16]              64\n",
      "           Conv2d-66           [-1, 32, 16, 16]           9,248\n",
      "      BatchNorm2d-67           [-1, 32, 16, 16]              64\n",
      "           Conv2d-68          [-1, 128, 16, 16]           4,224\n",
      "      BatchNorm2d-69          [-1, 128, 16, 16]             256\n",
      "  BottleneckPlain-70          [-1, 128, 16, 16]               0\n",
      "           Conv2d-71           [-1, 32, 16, 16]           4,128\n",
      "      BatchNorm2d-72           [-1, 32, 16, 16]              64\n",
      "           Conv2d-73           [-1, 32, 16, 16]           9,248\n",
      "      BatchNorm2d-74           [-1, 32, 16, 16]              64\n",
      "           Conv2d-75          [-1, 128, 16, 16]           4,224\n",
      "      BatchNorm2d-76          [-1, 128, 16, 16]             256\n",
      "  BottleneckPlain-77          [-1, 128, 16, 16]               0\n",
      "           Conv2d-78           [-1, 32, 16, 16]           4,128\n",
      "      BatchNorm2d-79           [-1, 32, 16, 16]              64\n",
      "           Conv2d-80           [-1, 32, 16, 16]           9,248\n",
      "      BatchNorm2d-81           [-1, 32, 16, 16]              64\n",
      "           Conv2d-82          [-1, 128, 16, 16]           4,224\n",
      "      BatchNorm2d-83          [-1, 128, 16, 16]             256\n",
      "  BottleneckPlain-84          [-1, 128, 16, 16]               0\n",
      "           Conv2d-85           [-1, 32, 16, 16]           4,128\n",
      "      BatchNorm2d-86           [-1, 32, 16, 16]              64\n",
      "           Conv2d-87           [-1, 32, 16, 16]           9,248\n",
      "      BatchNorm2d-88           [-1, 32, 16, 16]              64\n",
      "           Conv2d-89          [-1, 128, 16, 16]           4,224\n",
      "      BatchNorm2d-90          [-1, 128, 16, 16]             256\n",
      "  BottleneckPlain-91          [-1, 128, 16, 16]               0\n",
      "           Conv2d-92           [-1, 32, 16, 16]           4,128\n",
      "      BatchNorm2d-93           [-1, 32, 16, 16]              64\n",
      "           Conv2d-94           [-1, 32, 16, 16]           9,248\n",
      "      BatchNorm2d-95           [-1, 32, 16, 16]              64\n",
      "           Conv2d-96          [-1, 128, 16, 16]           4,224\n",
      "      BatchNorm2d-97          [-1, 128, 16, 16]             256\n",
      "  BottleneckPlain-98          [-1, 128, 16, 16]               0\n",
      "      ResnetLayer-99          [-1, 128, 16, 16]               0\n",
      "          Conv2d-100           [-1, 64, 16, 16]           8,256\n",
      "     BatchNorm2d-101           [-1, 64, 16, 16]             128\n",
      "          Conv2d-102             [-1, 64, 8, 8]          36,928\n",
      "     BatchNorm2d-103             [-1, 64, 8, 8]             128\n",
      "          Conv2d-104            [-1, 256, 8, 8]          16,640\n",
      "     BatchNorm2d-105            [-1, 256, 8, 8]             512\n",
      "       AvgPool2d-106            [-1, 128, 8, 8]               0\n",
      "          Conv2d-107            [-1, 256, 8, 8]          33,024\n",
      "     BatchNorm2d-108            [-1, 256, 8, 8]             512\n",
      "BottleneckProjection-109            [-1, 256, 8, 8]               0\n",
      "          Conv2d-110             [-1, 64, 8, 8]          16,448\n",
      "     BatchNorm2d-111             [-1, 64, 8, 8]             128\n",
      "          Conv2d-112             [-1, 64, 8, 8]          36,928\n",
      "     BatchNorm2d-113             [-1, 64, 8, 8]             128\n",
      "          Conv2d-114            [-1, 256, 8, 8]          16,640\n",
      "     BatchNorm2d-115            [-1, 256, 8, 8]             512\n",
      " BottleneckPlain-116            [-1, 256, 8, 8]               0\n",
      "          Conv2d-117             [-1, 64, 8, 8]          16,448\n",
      "     BatchNorm2d-118             [-1, 64, 8, 8]             128\n",
      "          Conv2d-119             [-1, 64, 8, 8]          36,928\n",
      "     BatchNorm2d-120             [-1, 64, 8, 8]             128\n",
      "          Conv2d-121            [-1, 256, 8, 8]          16,640\n",
      "     BatchNorm2d-122            [-1, 256, 8, 8]             512\n",
      " BottleneckPlain-123            [-1, 256, 8, 8]               0\n",
      "          Conv2d-124             [-1, 64, 8, 8]          16,448\n",
      "     BatchNorm2d-125             [-1, 64, 8, 8]             128\n",
      "          Conv2d-126             [-1, 64, 8, 8]          36,928\n",
      "     BatchNorm2d-127             [-1, 64, 8, 8]             128\n",
      "          Conv2d-128            [-1, 256, 8, 8]          16,640\n",
      "     BatchNorm2d-129            [-1, 256, 8, 8]             512\n",
      " BottleneckPlain-130            [-1, 256, 8, 8]               0\n",
      "          Conv2d-131             [-1, 64, 8, 8]          16,448\n",
      "     BatchNorm2d-132             [-1, 64, 8, 8]             128\n",
      "          Conv2d-133             [-1, 64, 8, 8]          36,928\n",
      "     BatchNorm2d-134             [-1, 64, 8, 8]             128\n",
      "          Conv2d-135            [-1, 256, 8, 8]          16,640\n",
      "     BatchNorm2d-136            [-1, 256, 8, 8]             512\n",
      " BottleneckPlain-137            [-1, 256, 8, 8]               0\n",
      "          Conv2d-138             [-1, 64, 8, 8]          16,448\n",
      "     BatchNorm2d-139             [-1, 64, 8, 8]             128\n",
      "          Conv2d-140             [-1, 64, 8, 8]          36,928\n",
      "     BatchNorm2d-141             [-1, 64, 8, 8]             128\n",
      "          Conv2d-142            [-1, 256, 8, 8]          16,640\n",
      "     BatchNorm2d-143            [-1, 256, 8, 8]             512\n",
      " BottleneckPlain-144            [-1, 256, 8, 8]               0\n",
      "     ResnetLayer-145            [-1, 256, 8, 8]               0\n",
      "AdaptiveAvgPool2d-146            [-1, 256, 1, 1]               0\n",
      "          Linear-147                   [-1, 10]           2,570\n",
      "      ResnetHead-148                   [-1, 10]               0\n",
      "================================================================\n",
      "Total params: 600,522\n",
      "Trainable params: 600,522\n",
      "Non-trainable params: 0\n",
      "----------------------------------------------------------------\n",
      "Input size (MB): 0.01\n",
      "Forward/backward pass size (MB): 25.38\n",
      "Params size (MB): 2.29\n",
      "Estimated Total Size (MB): 27.68\n",
      "----------------------------------------------------------------\n",
      "None\n"
     ]
    }
   ],
   "source": [
    "# ImageNet version\n",
    "# resnet_imagenet = Resnet(\n",
    "# img_channels=3,\n",
    "# n_classes=10,\n",
    "# extra_blocks_per_layer=[1, 3, 5, 2,],\n",
    "# resnet_channels=[64, 128, 256, 512],\n",
    "# stem_channels=64,\n",
    "# stem_downsample=True,\n",
    "# )\n",
    "# Cifar10 version\n",
    "resnet_cifar = ResNet(\n",
    "    img_channels=3,\n",
    "    n_classes=10,\n",
    "    extra_blocks_per_layer=[5, 5, 5],\n",
    "    resnet_channels=[16, 32, 64],\n",
    "    stem_channels=16,\n",
    "    stem_conv_size=7 if not args.lean_stem else 3,\n",
    "    stem_downsample=False,\n",
    "    slender_stem=args.lean_stem,\n",
    "    better_downsampling=args.smart_downsampling,\n",
    ")\n",
    "print(summary(resnet_cifar.to(device), (3, 32, 32)))\n",
    "model = resnet_cifar\n",
    "# baby_resnet = ResNet(\n",
    "#     img_channels=1,\n",
    "#     n_classes=10,\n",
    "#     extra_blocks_per_layer=[1, 1],\n",
    "#     resnet_channels=[16, 32,],\n",
    "#     stem_channels=16,\n",
    "#     stem_downsample=False,\n",
    "#     slender_stem=True,\n",
    "#     better_downsampling=True,\n",
    "# )\n",
    "# model = baby_resnet\n",
    "model = model.to(device)"
   ]
  },
  {
   "cell_type": "markdown",
   "id": "822d1940-c8a0-4cbb-a9c3-377a4ec24582",
   "metadata": {},
   "source": [
    "### Training"
   ]
  },
  {
   "cell_type": "code",
   "execution_count": null,
   "id": "7371630f-e4ed-43ca-8c61-428c361c59f6",
   "metadata": {},
   "outputs": [
    {
     "name": "stdout",
     "output_type": "stream",
     "text": [
      "Training starts for cifar10_128_0.1_300_0.9_1e-05_True_5_2_0.1_0.5_True_True_True\n",
      "Start of epoch 1\n"
     ]
    }
   ],
   "source": [
    "no_decay, decay = model.get_params()\n",
    "optimizer = get_optimizer(\n",
    "    decay_params=decay,\n",
    "    no_decay_params=no_decay,\n",
    "    lr=args.learning_rate,\n",
    "    momentum=args.momentum,\n",
    "    weight_decay=args.weight_decay,\n",
    ")\n",
    "\n",
    "if args.mixup_alpha is not None:\n",
    "    loss_fn = lambda inputs, targets: nn.KLDivLoss(reduction=\"batchmean\")(\n",
    "        nn.LogSoftmax(dim=1)(inputs), targets\n",
    "    )\n",
    "else:\n",
    "    loss_fn = nn.CrossEntropyLoss(reduction=\"mean\")\n",
    "training_loop(\n",
    "    exp_name,\n",
    "    args=training_args,\n",
    "    model=model,\n",
    "    opt=optimizer,\n",
    "    train_loader=train_data,\n",
    "    eval_loader=eval_data,\n",
    "    loss_fn=loss_fn,\n",
    "    device=device,\n",
    "    metric_fn=accuracy,\n",
    ")"
   ]
  },
  {
   "cell_type": "markdown",
   "id": "0eb4df30-bc92-479d-9a11-ecea0a746c48",
   "metadata": {},
   "source": [
    "### Load from checkpoint"
   ]
  },
  {
   "cell_type": "code",
   "execution_count": null,
   "id": "b6d6c0cc-e2fe-41dd-a70d-c3adc6ce4995",
   "metadata": {},
   "outputs": [],
   "source": [
    "loaded = torch.load(\n",
    "    os.path.join(os.path.join(\"data\", \"checkpoints\"), f\"{exp_name}-70000.pt\"),\n",
    "    map_location=device,\n",
    ")\n",
    "model.load_state_dict(loaded[\"model_state\"])"
   ]
  },
  {
   "cell_type": "markdown",
   "id": "8db8ac43-84fe-4a80-952d-9faa3458a96e",
   "metadata": {},
   "source": [
    "### Load test data"
   ]
  },
  {
   "cell_type": "code",
   "execution_count": null,
   "id": "37d5372f-e76b-41d8-80dd-1856c2c074de",
   "metadata": {},
   "outputs": [],
   "source": [
    "test_loader, should_be_none = get_image_data_loader(\n",
    "    args.dataset_name,\n",
    "    train=False,\n",
    "    val_share=0.1,\n",
    "    shuffle=True,\n",
    "    batch_size=args.batch_size,\n",
    "    single_batch=False,\n",
    ")\n",
    "assert should_be_none is None"
   ]
  },
  {
   "cell_type": "markdown",
   "id": "4aa89803-602e-4d2c-8a16-269f95016eef",
   "metadata": {},
   "source": [
    "### Evaluate the loaded model"
   ]
  },
  {
   "cell_type": "code",
   "execution_count": null,
   "id": "b464b1cf-6dcd-4f74-bfbb-7f8e83be0e14",
   "metadata": {},
   "outputs": [],
   "source": [
    "test_loop(\n",
    "    test_loader=test_loader,\n",
    "    model=model,\n",
    "    device=device,\n",
    "    metric_fn=accuracy,\n",
    "    plot=True,\n",
    "    loss_fn=F.cross_entropy,\n",
    ")"
   ]
  },
  {
   "cell_type": "code",
   "execution_count": null,
   "id": "b8df06bf-6ae0-4aea-ad93-528617874cba",
   "metadata": {},
   "outputs": [],
   "source": []
  },
  {
   "cell_type": "code",
   "execution_count": null,
   "id": "934833c9-79fc-4d66-a385-9c8d267c3420",
   "metadata": {},
   "outputs": [],
   "source": []
  },
  {
   "cell_type": "code",
   "execution_count": null,
   "id": "b4483316-c5aa-4704-b0f4-6991c9273fa1",
   "metadata": {},
   "outputs": [],
   "source": []
  },
  {
   "cell_type": "code",
   "execution_count": null,
   "id": "fda6abd1-8c9c-49a2-8565-7a41e36e8f21",
   "metadata": {},
   "outputs": [],
   "source": []
  },
  {
   "cell_type": "code",
   "execution_count": null,
   "id": "0c2b3292-62a8-4119-8bf8-df6f9de72f92",
   "metadata": {},
   "outputs": [],
   "source": []
  },
  {
   "cell_type": "code",
   "execution_count": null,
   "id": "c285f01f-b3fb-4871-8628-fb1ef1264c98",
   "metadata": {},
   "outputs": [],
   "source": []
  },
  {
   "cell_type": "code",
   "execution_count": null,
   "id": "97cd7cb6-97cc-4b7a-ab8a-24695d7a75f0",
   "metadata": {},
   "outputs": [],
   "source": []
  }
 ],
 "metadata": {
  "kernelspec": {
   "display_name": "Python 3",
   "language": "python",
   "name": "python3"
  },
  "language_info": {
   "codemirror_mode": {
    "name": "ipython",
    "version": 3
   },
   "file_extension": ".py",
   "mimetype": "text/x-python",
   "name": "python",
   "nbconvert_exporter": "python",
   "pygments_lexer": "ipython3",
   "version": "3.7.10"
  }
 },
 "nbformat": 4,
 "nbformat_minor": 5
}
